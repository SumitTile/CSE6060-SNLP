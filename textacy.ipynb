{
 "cells": [
  {
   "cell_type": "markdown",
   "metadata": {},
   "source": [
    "# Textacy"
   ]
  },
  {
   "cell_type": "markdown",
   "metadata": {},
   "source": [
    "Textacy is a Python library for performing a variety of natural language processing (NLP) tasks, built on the high-performance spaCy library. With the fundamentals tokenization, part-of-speech tagging, dependency parsing, etc. Delegated to another library, textacy focuses primarily on the tasks that come before and follow after."
   ]
  },
  {
   "cell_type": "markdown",
   "metadata": {},
   "source": [
    "#### Features\n",
    "\n",
    "1. Convenient entry points to working with one or many documents processed by spaCy, with functionality added via custom extensions and automatic language identification for applying the right spaCy pipeline\n",
    "\n",
    "2. Variety of downloadable datasets with both text content and metadata, from Congressional speeches to historical literature to Reddit comments\n",
    "\n",
    "3. Easy file I/O for streaming data to and from disk\n",
    "\n",
    "4. Cleaning, normalization, and exploration of raw text — before processing\n",
    "\n",
    "5. Flexible extraction of words, ngrams, noun chunks, entities, acronyms, key terms, and other elements of interest\n",
    "\n",
    "6. Tokenization and vectorization of documents, with functionality for training, interpreting, and visualizing topic models\n",
    "\n",
    "7. String, set, and document similarity comparison by a variety of metrics\n",
    "\n",
    "8. Calculations for common text statistics, including Flesch-Kincaid Grade Level and multilingual Flesch Reading Ease"
   ]
  },
  {
   "cell_type": "markdown",
   "metadata": {},
   "source": [
    "###### -------------------------------------------------------------------------------------------------------------------------"
   ]
  },
  {
   "cell_type": "markdown",
   "metadata": {},
   "source": [
    "First step in using textacy is to install it.\n",
    "The commands to install it are:\n",
    "\n",
    "pip install textacy\n",
    "\n",
    "conda install -c conda-forge textacy"
   ]
  },
  {
   "cell_type": "markdown",
   "metadata": {},
   "source": [
    "###### -------------------------------------------------------------------------------------------------------------------------"
   ]
  },
  {
   "cell_type": "markdown",
   "metadata": {},
   "source": [
    "The textacy package contains all top-level functionalities for which it is made"
   ]
  },
  {
   "cell_type": "code",
   "execution_count": 48,
   "metadata": {},
   "outputs": [],
   "source": [
    "import textacy\n",
    "#import textacy.datasets"
   ]
  },
  {
   "cell_type": "code",
   "execution_count": 49,
   "metadata": {},
   "outputs": [
    {
     "data": {
      "text/plain": [
       "'Four score and seven years ago our fathers brought forth on this continent, a new nation, conceived in Liberty, and dedicated to the proposition that all men are created equal.\\nNow we are engaged in a great civil war, testing whether that nation, or any nation so conceived and so dedicated, can long endure. \\nWe are met on a great battle-field of that war. We have come to dedicate a portion of that field, \\nas a final resting place for those who here gave their lives that that nation might live. It is altogether fitting and proper that we should do this.\\n\\nBut, in a larger sense, we can not dedicateâ€”we can not consecrateâ€”we can not hallowâ€”this ground. The brave men, living and dead, who struggled here, have consecrated it, \\nfar above our poor power to add or detract. \\nThe world will little note, nor long remember what we say here, but it can never forget what they did here. It is for us the living, rather, \\nto be dedicated here to the unfinished work which they who fought here have thus far so nobly advanced. \\nIt is rather for us to be here dedicated to the great task remaining before usâ€”that from these honored dead we take increased devotion to \\nthat cause for which they gave the last full measure of devotionâ€”that we here highly resolve that these dead shall not have died in vainâ€”that this nation, under God, \\nshall have a new birth of freedomâ€”and that government of the people, by the people, for the people, shall not perish from the earth.'"
      ]
     },
     "execution_count": 49,
     "metadata": {},
     "output_type": "execute_result"
    }
   ],
   "source": [
    "myfile = open(\"task.txt\")            #...Importing an text file\n",
    "text = myfile.read()\n",
    "text"
   ]
  },
  {
   "cell_type": "markdown",
   "metadata": {},
   "source": [
    "###### -------------------------------------------------------------------------------------------------------------------------\n",
    "To clean messy raw text input, textacy provides an package preprocessing. It cleans the data with some funtions like whitespace, quotation marks, etc."
   ]
  },
  {
   "cell_type": "code",
   "execution_count": 50,
   "metadata": {},
   "outputs": [
    {
     "data": {
      "text/plain": [
       "'Four score and seven years ago our fathers brought forth on this continent a new nation conceived in Liberty and dedicated to the proposition that all men are created equal \\nNow we are engaged in a great civil war testing whether that nation or any nation so conceived and so dedicated can long endure \\nWe are met on a great battle field of that war We have come to dedicate a portion of that field \\nas a final resting place for those who here gave their lives that that nation might live It is altogether fitting and proper that we should do this \\nBut in a larger sense we can not dedicateâ€ we can not consecrateâ€ we can not hallowâ€ this ground The brave men living and dead who struggled here have consecrated it \\nfar above our poor power to add or detract \\nThe world will little note nor long remember what we say here but it can never forget what they did here It is for us the living rather \\nto be dedicated here to the unfinished work which they who fought here have thus far so nobly advanced \\nIt is rather for us to be here dedicated to the great task remaining before usâ€ that from these honored dead we take increased devotion to \\nthat cause for which they gave the last full measure of devotionâ€ that we here highly resolve that these dead shall not have died in vainâ€ that this nation under God \\nshall have a new birth of freedomâ€ and that government of the people by the people for the people shall not perish from the earth'"
      ]
     },
     "execution_count": 50,
     "metadata": {},
     "output_type": "execute_result"
    }
   ],
   "source": [
    "from textacy import preprocessing\n",
    "preprocessing.normalize_whitespace(preprocessing.remove_punctuation(text))[:]"
   ]
  },
  {
   "cell_type": "markdown",
   "metadata": {},
   "source": [
    "###### -------------------------------------------------------------------------------------------------------------------------\n",
    "Textacy dataset is package which contains speeches of some top leaders"
   ]
  },
  {
   "cell_type": "code",
   "execution_count": 51,
   "metadata": {},
   "outputs": [
    {
     "data": {
      "text/plain": [
       "('I yield myself 15 minutes of the time controlled by the Democrats.',\n",
       " {'date': '2001-02-13',\n",
       "  'congress': 107,\n",
       "  'speaker_name': 'Hillary Clinton',\n",
       "  'speaker_party': 'D',\n",
       "  'title': 'MORNING BUSINESS',\n",
       "  'chamber': 'Senate'})"
      ]
     },
     "execution_count": 51,
     "metadata": {},
     "output_type": "execute_result"
    }
   ],
   "source": [
    "import textacy.datasets  # note the import\n",
    "ds = textacy.datasets.CapitolWords()\n",
    "ds.download()\n",
    "records = ds.records(speaker_name={\"Hillary Clinton\", \"Barack Obama\"})\n",
    "next(records)"
   ]
  },
  {
   "cell_type": "markdown",
   "metadata": {},
   "source": [
    "###### -------------------------------------------------------------------------------------------------------------------------\n",
    "One of the feature of textacy is getting data into document format. Lets convert text data into an document"
   ]
  },
  {
   "cell_type": "code",
   "execution_count": 52,
   "metadata": {
    "scrolled": true
   },
   "outputs": [
    {
     "data": {
      "text/plain": [
       "'Doc(308 tokens: \"Four score and seven years ago our fathers brou...\")'"
      ]
     },
     "execution_count": 52,
     "metadata": {},
     "output_type": "execute_result"
    }
   ],
   "source": [
    "en = textacy.load_spacy_lang(\"en_core_web_sm\", disable=(\"parser\",))\n",
    "doc = textacy.make_spacy_doc(text, lang=en)\n",
    "doc._.preview   #...shows document preview with total number of tokens"
   ]
  },
  {
   "cell_type": "markdown",
   "metadata": {},
   "source": [
    "###### -------------------------------------------------------------------------------------------------------------------------\n",
    "For analyzing document textacy gives various ways, those are as follows"
   ]
  },
  {
   "cell_type": "code",
   "execution_count": 53,
   "metadata": {
    "scrolled": false
   },
   "outputs": [
    {
     "data": {
      "text/plain": [
       "[score and seven,\n",
       " seven years ago,\n",
       " ago our fathers,\n",
       " fathers brought forth,\n",
       " conceived in Liberty,\n",
       " men are created,\n",
       " great civil war,\n",
       " nation so conceived,\n",
       " come to dedicate,\n",
       " dedicate a portion,\n",
       " final resting place,\n",
       " gave their lives,\n",
       " nation might live,\n",
       " fitting and proper,\n",
       " living and dead,\n",
       " power to add,\n",
       " add or detract,\n",
       " world will little,\n",
       " far so nobly,\n",
       " great task remaining,\n",
       " remaining before usâ€”that,\n",
       " measure of devotionâ€”that,\n",
       " died in vainâ€”that,\n",
       " vainâ€”that this nation,\n",
       " birth of freedomâ€”and,\n",
       " freedomâ€”and that government,\n",
       " shall not perish]"
      ]
     },
     "execution_count": 53,
     "metadata": {},
     "output_type": "execute_result"
    }
   ],
   "source": [
    "# Trigrams\n",
    "list(textacy.extract.ngrams( doc, 3, filter_stops=True, filter_punct=True, filter_nums=False))"
   ]
  },
  {
   "cell_type": "code",
   "execution_count": 54,
   "metadata": {
    "scrolled": false
   },
   "outputs": [
    {
     "data": {
      "text/plain": [
       "[seven years,\n",
       " years ago,\n",
       " fathers brought,\n",
       " brought forth,\n",
       " new nation,\n",
       " created equal,\n",
       " great civil,\n",
       " civil war,\n",
       " long endure,\n",
       " great battle,\n",
       " final resting,\n",
       " resting place,\n",
       " altogether fitting,\n",
       " larger sense,\n",
       " hallowâ€”this ground,\n",
       " brave men,\n",
       " poor power,\n",
       " little note,\n",
       " long remember,\n",
       " unfinished work,\n",
       " nobly advanced,\n",
       " great task,\n",
       " task remaining,\n",
       " honored dead,\n",
       " increased devotion,\n",
       " highly resolve,\n",
       " dead shall,\n",
       " new birth]"
      ]
     },
     "execution_count": 54,
     "metadata": {},
     "output_type": "execute_result"
    }
   ],
   "source": [
    "# Bigrams\n",
    "list(textacy.extract.ngrams(doc, 2))"
   ]
  },
  {
   "cell_type": "code",
   "execution_count": 55,
   "metadata": {},
   "outputs": [
    {
     "data": {
      "text/plain": [
       "[]"
      ]
     },
     "execution_count": 55,
     "metadata": {},
     "output_type": "execute_result"
    }
   ],
   "source": [
    "# Bigrams having frequency of occurance more than one is showing\n",
    "list(textacy.extract.ngrams(doc, 2, min_freq=2)) #..Here minfreq 2 is taken"
   ]
  },
  {
   "cell_type": "markdown",
   "metadata": {},
   "source": [
    "###### -------------------------------------------------------------------------------------------------------------------------\n",
    "Entity extraction shows entities in the text provided which can be based on pattern matching, linguistics, syntax, semantics, or combination of these."
   ]
  },
  {
   "cell_type": "code",
   "execution_count": 56,
   "metadata": {},
   "outputs": [
    {
     "data": {
      "text/plain": [
       "[Four, seven years ago, Liberty]"
      ]
     },
     "execution_count": 56,
     "metadata": {},
     "output_type": "execute_result"
    }
   ],
   "source": [
    "list(textacy.extract.entities(doc, drop_determiners=True))"
   ]
  },
  {
   "cell_type": "markdown",
   "metadata": {},
   "source": [
    "###### -------------------------------------------------------------------------------------------------------------------------\n",
    "POS tagging"
   ]
  },
  {
   "cell_type": "code",
   "execution_count": 57,
   "metadata": {},
   "outputs": [
    {
     "data": {
      "text/plain": [
       "'<DET>? <NUM>* (<ADJ> <PUNCT>? <CONJ>?)* (<NOUN>|<PROPN> <PART>?)+'"
      ]
     },
     "execution_count": 57,
     "metadata": {},
     "output_type": "execute_result"
    }
   ],
   "source": [
    "# Defining pattern for pos tagging\n",
    "pattern = textacy.constants.POS_REGEX_PATTERNS[\"en\"][\"NP\"]\n",
    "pattern"
   ]
  },
  {
   "cell_type": "code",
   "execution_count": 58,
   "metadata": {},
   "outputs": [
    {
     "name": "stderr",
     "output_type": "stream",
     "text": [
      "C:\\Users\\Sumit\\Anaconda3\\lib\\site-packages\\textacy\\extract.py:332: DeprecationWarning: `pos_regex_matches()` has been deprecated! for similar but more powerful and performant functionality, use `textacy.extract.matches()` instead.\n",
      "  action=\"once\",\n"
     ]
    },
    {
     "data": {
      "text/plain": [
       "[Four score,\n",
       " seven years,\n",
       " our fathers,\n",
       " this continent,\n",
       " a new nation,\n",
       " Liberty,\n",
       " the proposition,\n",
       " all men,\n",
       " a great civil war,\n",
       " that nation,\n",
       " any nation,\n",
       " a great battle,\n",
       " field,\n",
       " that war,\n",
       " a portion,\n",
       " that field,\n",
       " place,\n",
       " their lives,\n",
       " that nation,\n",
       " a larger sense,\n",
       " consecrateâ€”we,\n",
       " ground,\n",
       " The brave men,\n",
       " living,\n",
       " our poor power,\n",
       " The world,\n",
       " the living,\n",
       " the unfinished work,\n",
       " the great task,\n",
       " usâ€”that,\n",
       " devotion,\n",
       " that cause,\n",
       " the last full measure,\n",
       " these dead,\n",
       " vainâ€”that,\n",
       " this nation,\n",
       " God,\n",
       " a new birth,\n",
       " freedomâ€”and,\n",
       " that government,\n",
       " the people,\n",
       " the people,\n",
       " the people,\n",
       " the earth]"
      ]
     },
     "execution_count": 58,
     "metadata": {},
     "output_type": "execute_result"
    }
   ],
   "source": [
    "list(textacy.extract.pos_regex_matches(doc, pattern))"
   ]
  },
  {
   "cell_type": "markdown",
   "metadata": {},
   "source": [
    "###### -------------------------------------------------------------------------------------------------------------------------\n",
    "Getting key terms from the given text"
   ]
  },
  {
   "cell_type": "code",
   "execution_count": 59,
   "metadata": {},
   "outputs": [
    {
     "data": {
      "text/plain": [
       "[('great civil war', 0.021696862470056172),\n",
       " ('new nation', 0.018172169732000733),\n",
       " ('great task', 0.015419500236084066),\n",
       " ('great battle', 0.014956691963640079),\n",
       " ('brave man', 0.011442764212560144),\n",
       " ('new birth', 0.010170824703844948),\n",
       " ('dead', 0.010052778364395897),\n",
       " ('unfinished work', 0.009197000477015455),\n",
       " ('large sense', 0.008733454058238664),\n",
       " ('poor power', 0.00863586069445221)]"
      ]
     },
     "execution_count": 59,
     "metadata": {},
     "output_type": "execute_result"
    }
   ],
   "source": [
    "import textacy.ke      #...this package includes many algorithms to find out key terms\n",
    "textacy.ke.textrank(doc, topn=10)      #...Topn is used to get the number of top words"
   ]
  },
  {
   "cell_type": "code",
   "execution_count": 60,
   "metadata": {},
   "outputs": [
    {
     "data": {
      "text/plain": [
       "141"
      ]
     },
     "execution_count": 60,
     "metadata": {},
     "output_type": "execute_result"
    }
   ],
   "source": [
    "# To count the unique words in text \n",
    "ts = textacy.TextStats(doc)\n",
    "ts.n_unique_words"
   ]
  },
  {
   "cell_type": "code",
   "execution_count": 61,
   "metadata": {},
   "outputs": [
    {
     "data": {
      "text/plain": [
       "{'n_sents': None,\n",
       " 'n_words': 265,\n",
       " 'n_chars': 1170,\n",
       " 'n_syllables': 351,\n",
       " 'n_unique_words': 141,\n",
       " 'n_long_words': 40,\n",
       " 'n_monosyllable_words': 204,\n",
       " 'n_polysyllable_words': 19}"
      ]
     },
     "execution_count": 61,
     "metadata": {},
     "output_type": "execute_result"
    }
   ],
   "source": [
    "# It gives some information about text such as count\n",
    "ts.basic_counts"
   ]
  },
  {
   "cell_type": "code",
   "execution_count": 62,
   "metadata": {},
   "outputs": [
    {
     "data": {
      "text/plain": [
       "[('nation', 5),\n",
       " ('dedicate', 4),\n",
       " ('great', 3),\n",
       " ('dead', 3),\n",
       " ('shall', 3),\n",
       " ('people', 3),\n",
       " ('new', 2),\n",
       " ('conceive', 2),\n",
       " ('man', 2),\n",
       " ('war', 2),\n",
       " ('long', 2),\n",
       " ('field', 2),\n",
       " ('give', 2),\n",
       " ('living', 2),\n",
       " ('far', 2)]"
      ]
     },
     "execution_count": 62,
     "metadata": {},
     "output_type": "execute_result"
    }
   ],
   "source": [
    "#..Bot gives bagofterm function which consists too many operations which can be used in various ways as user needs\n",
    "bot = doc._.to_bag_of_terms(ngrams=(1, 2, 3), entities=True, weighting=\"count\",as_strings=True)\n",
    "#..Here we are taking frequency words in text\n",
    "sorted(bot.items(), key=lambda x: x[1], reverse=True)[:15]"
   ]
  },
  {
   "cell_type": "markdown",
   "metadata": {},
   "source": [
    "### Now usnig spacy and textacy together we can take advantage of both"
   ]
  },
  {
   "cell_type": "code",
   "execution_count": 63,
   "metadata": {},
   "outputs": [],
   "source": [
    "import spacy # Importing spacy packages\n",
    "nlp = spacy.load('en_core_web_sm')"
   ]
  },
  {
   "cell_type": "code",
   "execution_count": 64,
   "metadata": {},
   "outputs": [],
   "source": [
    "docx_spacy = nlp(text) #Converting raw text into document"
   ]
  },
  {
   "cell_type": "code",
   "execution_count": 65,
   "metadata": {},
   "outputs": [
    {
     "data": {
      "text/plain": [
       "Four score and seven years ago our fathers brought forth on this continent, a new nation, conceived in Liberty, and dedicated to the proposition that all men are created equal.\n",
       "Now we are engaged in a great civil war, testing whether that nation, or any nation so conceived and so dedicated, can long endure. \n",
       "We are met on a great battle-field of that war. We have come to dedicate a portion of that field, \n",
       "as a final resting place for those who here gave their lives that that nation might live. It is altogether fitting and proper that we should do this.\n",
       "\n",
       "But, in a larger sense, we can not dedicateâ€”we can not consecrateâ€”we can not hallowâ€”this ground. The brave men, living and dead, who struggled here, have consecrated it, \n",
       "far above our poor power to add or detract. \n",
       "The world will little note, nor long remember what we say here, but it can never forget what they did here. It is for us the living, rather, \n",
       "to be dedicated here to the unfinished work which they who fought here have thus far so nobly advanced. \n",
       "It is rather for us to be here dedicated to the great task remaining before usâ€”that from these honored dead we take increased devotion to \n",
       "that cause for which they gave the last full measure of devotionâ€”that we here highly resolve that these dead shall not have died in vainâ€”that this nation, under God, \n",
       "shall have a new birth of freedomâ€”and that government of the people, by the people, for the people, shall not perish from the earth."
      ]
     },
     "execution_count": 65,
     "metadata": {},
     "output_type": "execute_result"
    }
   ],
   "source": [
    "docx_spacy"
   ]
  },
  {
   "cell_type": "code",
   "execution_count": 66,
   "metadata": {},
   "outputs": [
    {
     "data": {
      "text/plain": [
       "spacy.tokens.doc.Doc"
      ]
     },
     "execution_count": 66,
     "metadata": {},
     "output_type": "execute_result"
    }
   ],
   "source": [
    "type(docx_spacy)  # checking type to confirm type of document"
   ]
  },
  {
   "cell_type": "code",
   "execution_count": null,
   "metadata": {},
   "outputs": [],
   "source": []
  },
  {
   "cell_type": "code",
   "execution_count": 67,
   "metadata": {},
   "outputs": [
    {
     "data": {
      "text/plain": [
       "[('Four', 'CARDINAL'), ('seven years ago', 'DATE'), ('Liberty', 'GPE')]"
      ]
     },
     "execution_count": 67,
     "metadata": {},
     "output_type": "execute_result"
    }
   ],
   "source": [
    "# Using SpaCy Named Entities Recognition\n",
    "[ (entity.text,entity.label_) for entity in docx_spacy.ents ]"
   ]
  },
  {
   "cell_type": "code",
   "execution_count": 68,
   "metadata": {},
   "outputs": [
    {
     "data": {
      "text/plain": [
       "[score and seven,\n",
       " seven years ago,\n",
       " ago our fathers,\n",
       " fathers brought forth,\n",
       " conceived in Liberty,\n",
       " men are created,\n",
       " great civil war,\n",
       " nation so conceived,\n",
       " come to dedicate,\n",
       " dedicate a portion,\n",
       " final resting place,\n",
       " gave their lives,\n",
       " nation might live,\n",
       " fitting and proper,\n",
       " living and dead,\n",
       " power to add,\n",
       " add or detract,\n",
       " world will little,\n",
       " far so nobly,\n",
       " great task remaining,\n",
       " remaining before usâ€”that,\n",
       " measure of devotionâ€”that,\n",
       " died in vainâ€”that,\n",
       " vainâ€”that this nation,\n",
       " birth of freedomâ€”and,\n",
       " freedomâ€”and that government,\n",
       " shall not perish]"
      ]
     },
     "execution_count": 68,
     "metadata": {},
     "output_type": "execute_result"
    }
   ],
   "source": [
    "# ngrams with textacy from the document created by using spacy \n",
    "\n",
    "list(textacy.extract.ngrams(docx_spacy,3))"
   ]
  },
  {
   "cell_type": "code",
   "execution_count": 70,
   "metadata": {},
   "outputs": [],
   "source": [
    "# Tokenizing the given document\n",
    "mylemma = [(token.lemma_) for token in docx_spacy]"
   ]
  },
  {
   "cell_type": "code",
   "execution_count": 71,
   "metadata": {
    "scrolled": true
   },
   "outputs": [
    {
     "data": {
      "text/plain": [
       "['four',\n",
       " 'score',\n",
       " 'and',\n",
       " 'seven',\n",
       " 'year',\n",
       " 'ago',\n",
       " '-PRON-',\n",
       " 'father',\n",
       " 'bring',\n",
       " 'forth',\n",
       " 'on',\n",
       " 'this',\n",
       " 'continent',\n",
       " ',',\n",
       " 'a',\n",
       " 'new',\n",
       " 'nation',\n",
       " ',',\n",
       " 'conceive',\n",
       " 'in',\n",
       " 'Liberty',\n",
       " ',',\n",
       " 'and',\n",
       " 'dedicate',\n",
       " 'to',\n",
       " 'the',\n",
       " 'proposition',\n",
       " 'that',\n",
       " 'all',\n",
       " 'man',\n",
       " 'be',\n",
       " 'create',\n",
       " 'equal',\n",
       " '.',\n",
       " '\\n',\n",
       " 'now',\n",
       " '-PRON-',\n",
       " 'be',\n",
       " 'engage',\n",
       " 'in',\n",
       " 'a',\n",
       " 'great',\n",
       " 'civil',\n",
       " 'war',\n",
       " ',',\n",
       " 'test',\n",
       " 'whether',\n",
       " 'that',\n",
       " 'nation',\n",
       " ',',\n",
       " 'or',\n",
       " 'any',\n",
       " 'nation',\n",
       " 'so',\n",
       " 'conceive',\n",
       " 'and',\n",
       " 'so',\n",
       " 'dedicated',\n",
       " ',',\n",
       " 'can',\n",
       " 'long',\n",
       " 'endure',\n",
       " '.',\n",
       " '\\n',\n",
       " '-PRON-',\n",
       " 'be',\n",
       " 'meet',\n",
       " 'on',\n",
       " 'a',\n",
       " 'great',\n",
       " 'battle',\n",
       " '-',\n",
       " 'field',\n",
       " 'of',\n",
       " 'that',\n",
       " 'war',\n",
       " '.',\n",
       " '-PRON-',\n",
       " 'have',\n",
       " 'come',\n",
       " 'to',\n",
       " 'dedicate',\n",
       " 'a',\n",
       " 'portion',\n",
       " 'of',\n",
       " 'that',\n",
       " 'field',\n",
       " ',',\n",
       " '\\n',\n",
       " 'as',\n",
       " 'a',\n",
       " 'final',\n",
       " 'rest',\n",
       " 'place',\n",
       " 'for',\n",
       " 'those',\n",
       " 'who',\n",
       " 'here',\n",
       " 'give',\n",
       " '-PRON-',\n",
       " 'life',\n",
       " 'that',\n",
       " 'that',\n",
       " 'nation',\n",
       " 'may',\n",
       " 'live',\n",
       " '.',\n",
       " '-PRON-',\n",
       " 'be',\n",
       " 'altogether',\n",
       " 'fitting',\n",
       " 'and',\n",
       " 'proper',\n",
       " 'that',\n",
       " '-PRON-',\n",
       " 'should',\n",
       " 'do',\n",
       " 'this',\n",
       " '.',\n",
       " '\\n\\n',\n",
       " 'but',\n",
       " ',',\n",
       " 'in',\n",
       " 'a',\n",
       " 'large',\n",
       " 'sense',\n",
       " ',',\n",
       " '-PRON-',\n",
       " 'can',\n",
       " 'not',\n",
       " 'dedicateâ€”we',\n",
       " 'can',\n",
       " 'not',\n",
       " 'consecrateâ€”we',\n",
       " 'can',\n",
       " 'not',\n",
       " 'hallowâ€”this',\n",
       " 'ground',\n",
       " '.',\n",
       " 'the',\n",
       " 'brave',\n",
       " 'man',\n",
       " ',',\n",
       " 'living',\n",
       " 'and',\n",
       " 'dead',\n",
       " ',',\n",
       " 'who',\n",
       " 'struggle',\n",
       " 'here',\n",
       " ',',\n",
       " 'have',\n",
       " 'consecrate',\n",
       " '-PRON-',\n",
       " ',',\n",
       " '\\n',\n",
       " 'far',\n",
       " 'above',\n",
       " '-PRON-',\n",
       " 'poor',\n",
       " 'power',\n",
       " 'to',\n",
       " 'add',\n",
       " 'or',\n",
       " 'detract',\n",
       " '.',\n",
       " '\\n',\n",
       " 'the',\n",
       " 'world',\n",
       " 'will',\n",
       " 'little',\n",
       " 'note',\n",
       " ',',\n",
       " 'nor',\n",
       " 'long',\n",
       " 'remember',\n",
       " 'what',\n",
       " '-PRON-',\n",
       " 'say',\n",
       " 'here',\n",
       " ',',\n",
       " 'but',\n",
       " '-PRON-',\n",
       " 'can',\n",
       " 'never',\n",
       " 'forget',\n",
       " 'what',\n",
       " '-PRON-',\n",
       " 'do',\n",
       " 'here',\n",
       " '.',\n",
       " '-PRON-',\n",
       " 'be',\n",
       " 'for',\n",
       " '-PRON-',\n",
       " 'the',\n",
       " 'living',\n",
       " ',',\n",
       " 'rather',\n",
       " ',',\n",
       " '\\n',\n",
       " 'to',\n",
       " 'be',\n",
       " 'dedicate',\n",
       " 'here',\n",
       " 'to',\n",
       " 'the',\n",
       " 'unfinished',\n",
       " 'work',\n",
       " 'which',\n",
       " '-PRON-',\n",
       " 'who',\n",
       " 'fight',\n",
       " 'here',\n",
       " 'have',\n",
       " 'thus',\n",
       " 'far',\n",
       " 'so',\n",
       " 'nobly',\n",
       " 'advanced',\n",
       " '.',\n",
       " '\\n',\n",
       " '-PRON-',\n",
       " 'be',\n",
       " 'rather',\n",
       " 'for',\n",
       " '-PRON-',\n",
       " 'to',\n",
       " 'be',\n",
       " 'here',\n",
       " 'dedicate',\n",
       " 'to',\n",
       " 'the',\n",
       " 'great',\n",
       " 'task',\n",
       " 'remain',\n",
       " 'before',\n",
       " 'usâ€”that',\n",
       " 'from',\n",
       " 'these',\n",
       " 'honor',\n",
       " 'dead',\n",
       " '-PRON-',\n",
       " 'take',\n",
       " 'increase',\n",
       " 'devotion',\n",
       " 'to',\n",
       " '\\n',\n",
       " 'that',\n",
       " 'cause',\n",
       " 'for',\n",
       " 'which',\n",
       " '-PRON-',\n",
       " 'give',\n",
       " 'the',\n",
       " 'last',\n",
       " 'full',\n",
       " 'measure',\n",
       " 'of',\n",
       " 'devotionâ€”that',\n",
       " '-PRON-',\n",
       " 'here',\n",
       " 'highly',\n",
       " 'resolve',\n",
       " 'that',\n",
       " 'these',\n",
       " 'dead',\n",
       " 'shall',\n",
       " 'not',\n",
       " 'have',\n",
       " 'die',\n",
       " 'in',\n",
       " 'vainâ€”that',\n",
       " 'this',\n",
       " 'nation',\n",
       " ',',\n",
       " 'under',\n",
       " 'God',\n",
       " ',',\n",
       " '\\n',\n",
       " 'shall',\n",
       " 'have',\n",
       " 'a',\n",
       " 'new',\n",
       " 'birth',\n",
       " 'of',\n",
       " 'freedomâ€”and',\n",
       " 'that',\n",
       " 'government',\n",
       " 'of',\n",
       " 'the',\n",
       " 'people',\n",
       " ',',\n",
       " 'by',\n",
       " 'the',\n",
       " 'people',\n",
       " ',',\n",
       " 'for',\n",
       " 'the',\n",
       " 'people',\n",
       " ',',\n",
       " 'shall',\n",
       " 'not',\n",
       " 'perish',\n",
       " 'from',\n",
       " 'the',\n",
       " 'earth',\n",
       " '.']"
      ]
     },
     "execution_count": 71,
     "metadata": {},
     "output_type": "execute_result"
    }
   ],
   "source": [
    "mylemma"
   ]
  },
  {
   "cell_type": "markdown",
   "metadata": {},
   "source": [
    "# References"
   ]
  },
  {
   "cell_type": "markdown",
   "metadata": {},
   "source": [
    "[1] DeWilde, Burton. \"textacy Documentation.\" (2017)\n",
    "\n",
    "[2] https://pypi.org/project/textacy/0.3.1/\n",
    "\n",
    "[3] https://jcharistech.wordpress.com/2018/11/28/natural-language-processing-with-textacy-spacy/#:~:text=With%20the%20basics%20%E2%80%94%20tokenization%2C%20part,quotation%20attribution%2C%20and%20more.%22\n",
    "\n",
    "[4] https://chartbeat-labs.github.io/textacy/build/html/getting_started/quickstart.html"
   ]
  },
  {
   "cell_type": "markdown",
   "metadata": {},
   "source": [
    "Note: The research paper on Textacy is not available either on IEEE, Springer or Google Scholar."
   ]
  },
  {
   "cell_type": "code",
   "execution_count": null,
   "metadata": {},
   "outputs": [],
   "source": []
  }
 ],
 "metadata": {
  "kernelspec": {
   "display_name": "Python 3",
   "language": "python",
   "name": "python3"
  },
  "language_info": {
   "codemirror_mode": {
    "name": "ipython",
    "version": 3
   },
   "file_extension": ".py",
   "mimetype": "text/x-python",
   "name": "python",
   "nbconvert_exporter": "python",
   "pygments_lexer": "ipython3",
   "version": "3.7.4"
  }
 },
 "nbformat": 4,
 "nbformat_minor": 2
}
