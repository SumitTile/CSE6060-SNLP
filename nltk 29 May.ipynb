{
 "cells": [
  {
   "cell_type": "code",
   "execution_count": 17,
   "metadata": {},
   "outputs": [],
   "source": [
    "#Task 1 : Explore COCA website"
   ]
  },
  {
   "cell_type": "code",
   "execution_count": 18,
   "metadata": {},
   "outputs": [],
   "source": [
    "#Task 2: Stemming"
   ]
  },
  {
   "cell_type": "code",
   "execution_count": 19,
   "metadata": {},
   "outputs": [
    {
     "data": {
      "text/plain": [
       "'happi'"
      ]
     },
     "execution_count": 19,
     "metadata": {},
     "output_type": "execute_result"
    }
   ],
   "source": [
    "import nltk\n",
    "from nltk.stem import PorterStemmer\n",
    "stemmerporter = PorterStemmer()\n",
    "stemmerporter.stem('happiness')"
   ]
  },
  {
   "cell_type": "code",
   "execution_count": 20,
   "metadata": {},
   "outputs": [
    {
     "data": {
      "text/plain": [
       "'anyth'"
      ]
     },
     "execution_count": 20,
     "metadata": {},
     "output_type": "execute_result"
    }
   ],
   "source": [
    "stemmerporter.stem('Anything')"
   ]
  },
  {
   "cell_type": "code",
   "execution_count": 21,
   "metadata": {},
   "outputs": [
    {
     "data": {
      "text/plain": [
       "'someth'"
      ]
     },
     "execution_count": 21,
     "metadata": {},
     "output_type": "execute_result"
    }
   ],
   "source": [
    "stemmerporter.stem('something')"
   ]
  },
  {
   "cell_type": "code",
   "execution_count": 22,
   "metadata": {},
   "outputs": [
    {
     "data": {
      "text/plain": [
       "'happy'"
      ]
     },
     "execution_count": 22,
     "metadata": {},
     "output_type": "execute_result"
    }
   ],
   "source": [
    "from nltk.stem import LancasterStemmer\n",
    "stemmerLan = LancasterStemmer()\n",
    "stemmerLan.stem('happiness')"
   ]
  },
  {
   "cell_type": "code",
   "execution_count": 23,
   "metadata": {},
   "outputs": [
    {
     "data": {
      "text/plain": [
       "'anyth'"
      ]
     },
     "execution_count": 23,
     "metadata": {},
     "output_type": "execute_result"
    }
   ],
   "source": [
    "stemmerLan.stem('anything')"
   ]
  },
  {
   "cell_type": "code",
   "execution_count": 24,
   "metadata": {},
   "outputs": [
    {
     "data": {
      "text/plain": [
       "'someth'"
      ]
     },
     "execution_count": 24,
     "metadata": {},
     "output_type": "execute_result"
    }
   ],
   "source": [
    "stemmerLan.stem('something')\n"
   ]
  },
  {
   "cell_type": "code",
   "execution_count": 25,
   "metadata": {},
   "outputs": [
    {
     "data": {
      "text/plain": [
       "'learn'"
      ]
     },
     "execution_count": 25,
     "metadata": {},
     "output_type": "execute_result"
    }
   ],
   "source": [
    "import nltk \n",
    "from nltk.stem import RegexpStemmer\n",
    "stemmerregexp = RegexpStemmer('ing')\n",
    "stemmerregexp.stem('learning')"
   ]
  },
  {
   "cell_type": "code",
   "execution_count": 26,
   "metadata": {},
   "outputs": [
    {
     "data": {
      "text/plain": [
       "'someth'"
      ]
     },
     "execution_count": 26,
     "metadata": {},
     "output_type": "execute_result"
    }
   ],
   "source": [
    "stemmerregexp.stem('something')"
   ]
  },
  {
   "cell_type": "code",
   "execution_count": 27,
   "metadata": {},
   "outputs": [
    {
     "data": {
      "text/plain": [
       "'mang'"
      ]
     },
     "execution_count": 27,
     "metadata": {},
     "output_type": "execute_result"
    }
   ],
   "source": [
    "import nltk\n",
    "from nltk.stem import SnowballStemmer\n",
    "SnowballStemmer.languages\n",
    "frenchstemmer = SnowballStemmer('french')\n",
    "frenchstemmer.stem('manges')"
   ]
  },
  {
   "cell_type": "code",
   "execution_count": 41,
   "metadata": {},
   "outputs": [
    {
     "ename": "ValueError",
     "evalue": "The language 'hindi' is not supported.",
     "output_type": "error",
     "traceback": [
      "\u001b[1;31m---------------------------------------------------------------------------\u001b[0m",
      "\u001b[1;31mValueError\u001b[0m                                Traceback (most recent call last)",
      "\u001b[1;32m<ipython-input-41-47396e285281>\u001b[0m in \u001b[0;36m<module>\u001b[1;34m\u001b[0m\n\u001b[0;32m      4\u001b[0m \u001b[1;32mfrom\u001b[0m \u001b[0mnltk\u001b[0m\u001b[1;33m.\u001b[0m\u001b[0mstem\u001b[0m \u001b[1;32mimport\u001b[0m \u001b[0mSnowballStemmer\u001b[0m\u001b[1;33m\u001b[0m\u001b[1;33m\u001b[0m\u001b[0m\n\u001b[0;32m      5\u001b[0m \u001b[0mSnowballStemmer\u001b[0m\u001b[1;33m.\u001b[0m\u001b[0mlanguages\u001b[0m\u001b[1;33m\u001b[0m\u001b[1;33m\u001b[0m\u001b[0m\n\u001b[1;32m----> 6\u001b[1;33m \u001b[0mfrenchstemmer\u001b[0m \u001b[1;33m=\u001b[0m \u001b[0mSnowballStemmer\u001b[0m\u001b[1;33m(\u001b[0m\u001b[1;34m'hindi'\u001b[0m\u001b[1;33m)\u001b[0m\u001b[1;33m\u001b[0m\u001b[1;33m\u001b[0m\u001b[0m\n\u001b[0m\u001b[0;32m      7\u001b[0m \u001b[0mfrenchstemmer\u001b[0m\u001b[1;33m.\u001b[0m\u001b[0mstem\u001b[0m\u001b[1;33m(\u001b[0m\u001b[1;34m'manges'\u001b[0m\u001b[1;33m)\u001b[0m\u001b[1;33m\u001b[0m\u001b[1;33m\u001b[0m\u001b[0m\n",
      "\u001b[1;32m~\\Anaconda3\\lib\\site-packages\\nltk\\stem\\snowball.py\u001b[0m in \u001b[0;36m__init__\u001b[1;34m(self, language, ignore_stopwords)\u001b[0m\n\u001b[0;32m    109\u001b[0m     \u001b[1;32mdef\u001b[0m \u001b[0m__init__\u001b[0m\u001b[1;33m(\u001b[0m\u001b[0mself\u001b[0m\u001b[1;33m,\u001b[0m \u001b[0mlanguage\u001b[0m\u001b[1;33m,\u001b[0m \u001b[0mignore_stopwords\u001b[0m\u001b[1;33m=\u001b[0m\u001b[1;32mFalse\u001b[0m\u001b[1;33m)\u001b[0m\u001b[1;33m:\u001b[0m\u001b[1;33m\u001b[0m\u001b[1;33m\u001b[0m\u001b[0m\n\u001b[0;32m    110\u001b[0m         \u001b[1;32mif\u001b[0m \u001b[0mlanguage\u001b[0m \u001b[1;32mnot\u001b[0m \u001b[1;32min\u001b[0m \u001b[0mself\u001b[0m\u001b[1;33m.\u001b[0m\u001b[0mlanguages\u001b[0m\u001b[1;33m:\u001b[0m\u001b[1;33m\u001b[0m\u001b[1;33m\u001b[0m\u001b[0m\n\u001b[1;32m--> 111\u001b[1;33m             \u001b[1;32mraise\u001b[0m \u001b[0mValueError\u001b[0m\u001b[1;33m(\u001b[0m\u001b[1;34m\"The language '{0}' is not supported.\"\u001b[0m\u001b[1;33m.\u001b[0m\u001b[0mformat\u001b[0m\u001b[1;33m(\u001b[0m\u001b[0mlanguage\u001b[0m\u001b[1;33m)\u001b[0m\u001b[1;33m)\u001b[0m\u001b[1;33m\u001b[0m\u001b[1;33m\u001b[0m\u001b[0m\n\u001b[0m\u001b[0;32m    112\u001b[0m         \u001b[0mstemmerclass\u001b[0m \u001b[1;33m=\u001b[0m \u001b[0mglobals\u001b[0m\u001b[1;33m(\u001b[0m\u001b[1;33m)\u001b[0m\u001b[1;33m[\u001b[0m\u001b[0mlanguage\u001b[0m\u001b[1;33m.\u001b[0m\u001b[0mcapitalize\u001b[0m\u001b[1;33m(\u001b[0m\u001b[1;33m)\u001b[0m \u001b[1;33m+\u001b[0m \u001b[1;34m\"Stemmer\"\u001b[0m\u001b[1;33m]\u001b[0m\u001b[1;33m\u001b[0m\u001b[1;33m\u001b[0m\u001b[0m\n\u001b[0;32m    113\u001b[0m         \u001b[0mself\u001b[0m\u001b[1;33m.\u001b[0m\u001b[0mstemmer\u001b[0m \u001b[1;33m=\u001b[0m \u001b[0mstemmerclass\u001b[0m\u001b[1;33m(\u001b[0m\u001b[0mignore_stopwords\u001b[0m\u001b[1;33m)\u001b[0m\u001b[1;33m\u001b[0m\u001b[1;33m\u001b[0m\u001b[0m\n",
      "\u001b[1;31mValueError\u001b[0m: The language 'hindi' is not supported."
     ]
    }
   ],
   "source": [
    "#Task 3: Homework\n",
    "#Demonstrate snowball stemming in Hindi/Tamil/French \n",
    "\n",
    "from nltk.stem import SnowballStemmer\n",
    "SnowballStemmer.languages\n",
    "frenchstemmer = SnowballStemmer('hindi')\n",
    "frenchstemmer.stem('manges')"
   ]
  },
  {
   "cell_type": "code",
   "execution_count": 42,
   "metadata": {},
   "outputs": [
    {
     "data": {
      "text/plain": [
       "('arabic',\n",
       " 'danish',\n",
       " 'dutch',\n",
       " 'english',\n",
       " 'finnish',\n",
       " 'french',\n",
       " 'german',\n",
       " 'hungarian',\n",
       " 'italian',\n",
       " 'norwegian',\n",
       " 'porter',\n",
       " 'portuguese',\n",
       " 'romanian',\n",
       " 'russian',\n",
       " 'spanish',\n",
       " 'swedish')"
      ]
     },
     "execution_count": 42,
     "metadata": {},
     "output_type": "execute_result"
    }
   ],
   "source": [
    "SnowballStemmer.languages"
   ]
  },
  {
   "cell_type": "code",
   "execution_count": 28,
   "metadata": {},
   "outputs": [],
   "source": [
    "# Snowball Stemmer is not supporting hindi / Tamil / any indian  language"
   ]
  },
  {
   "cell_type": "code",
   "execution_count": 43,
   "metadata": {},
   "outputs": [
    {
     "data": {
      "text/plain": [
       "'content'"
      ]
     },
     "execution_count": 43,
     "metadata": {},
     "output_type": "execute_result"
    }
   ],
   "source": [
    "italianstemmer = SnowballStemmer('italian')\n",
    "italianstemmer.stem('contento')"
   ]
  },
  {
   "cell_type": "code",
   "execution_count": 29,
   "metadata": {},
   "outputs": [
    {
     "name": "stdout",
     "output_type": "stream",
     "text": [
      "Am quick brown fox jump over a lazi dog\n"
     ]
    }
   ],
   "source": [
    "#Task 3: Stemming Paragraphs\n",
    "import nltk\n",
    "from nltk.stem import PorterStemmer\n",
    "stemmer = PorterStemmer()\n",
    "example = 'Am Quick brown fox jumps over a lazy dog'\n",
    "example = [stemmer.stem(token) for token in example.split(\" \")]\n",
    "print(\" \".join(example))"
   ]
  },
  {
   "cell_type": "code",
   "execution_count": 30,
   "metadata": {},
   "outputs": [
    {
     "name": "stdout",
     "output_type": "stream",
     "text": [
      "ate\n"
     ]
    }
   ],
   "source": [
    "#Task 4: Lemmatizer\n",
    "import nltk\n",
    "from nltk.stem import WordNetLemmatizer\n",
    "lemmatizer = WordNetLemmatizer()\n",
    "print(lemmatizer.lemmatize(\"ate\"))"
   ]
  },
  {
   "cell_type": "code",
   "execution_count": 31,
   "metadata": {},
   "outputs": [
    {
     "name": "stdout",
     "output_type": "stream",
     "text": [
      "good\n"
     ]
    }
   ],
   "source": [
    "print(lemmatizer.lemmatize(\"better\", pos='a'))"
   ]
  },
  {
   "cell_type": "code",
   "execution_count": 32,
   "metadata": {},
   "outputs": [
    {
     "name": "stdout",
     "output_type": "stream",
     "text": [
      "bad\n"
     ]
    }
   ],
   "source": [
    "print(lemmatizer.lemmatize(\"worst\", pos='a'))"
   ]
  },
  {
   "cell_type": "code",
   "execution_count": 33,
   "metadata": {},
   "outputs": [
    {
     "name": "stderr",
     "output_type": "stream",
     "text": [
      "Building prefix dict from the default dictionary ...\n",
      "Loading model from cache C:\\Users\\Sumit\\AppData\\Local\\Temp\\jieba.cache\n",
      "Loading model cost 0.655 seconds.\n",
      "Prefix dict has been built successfully.\n"
     ]
    },
    {
     "name": "stdout",
     "output_type": "stream",
     "text": [
      "早上 早上好 上好\n"
     ]
    }
   ],
   "source": [
    "#Task 5: Chinese Segmentation using Jieba\n",
    "import jieba\n",
    "seg = jieba.cut(\"早上好\", cut_all = True)\n",
    "print(\" \".join(seg))"
   ]
  },
  {
   "cell_type": "code",
   "execution_count": 34,
   "metadata": {},
   "outputs": [
    {
     "name": "stdout",
     "output_type": "stream",
     "text": [
      "['Become', 'an', 'expert', 'in', 'NLP', '!']\n"
     ]
    }
   ],
   "source": [
    "#Task 6: Basic Text Processing Pipeline\n",
    "import nltk\n",
    "sent = \"Become an expert in NLP!\"\n",
    "words = nltk.word_tokenize(sent)\n",
    "print(words)"
   ]
  },
  {
   "cell_type": "code",
   "execution_count": 35,
   "metadata": {},
   "outputs": [
    {
     "name": "stdout",
     "output_type": "stream",
     "text": [
      "['Transalation', 'history', 'will', 'soon', 'only', 'be', 'available', 'when', 'you', 'are', 'signed', 'in', 'andwill', 'be', 'centrally', 'managed', 'within', 'my', 'activity', '.']\n",
      "['Past', 'History', 'will', 'be', 'cleares', 'during', 'this', 'upgrade', ',', 'so', 'make', 'sure', 'to', 'save', 'translations', 'you', 'want', 'to', 'remember', 'for', 'ease', 'of', 'access', 'later', '.']\n",
      "['Transalation', 'history', 'will', 'soon', 'only', 'be', 'available', 'when', 'you', 'are', 'signed', 'in', 'andwill', 'be', 'centrally', 'managed', 'within', 'my', 'activity', '.']\n",
      "['Past', 'History', 'will', 'be', 'cleares', 'during', 'this', 'upgrade', ',', 'so', 'make', 'sure', 'to', 'save', 'translations', 'you', 'want', 'to', 'remember', 'for', 'ease', 'of', 'access', 'later', '.']\n",
      "['Transalation', 'history', 'will', 'soon', 'only', 'be', 'available', 'when', 'you', 'are', 'signed', 'in', 'andwill', 'be', 'centrally', 'managed', 'within', 'my', 'activity', '.']\n",
      "['Past', 'History', 'will', 'be', 'cleares', 'during', 'this', 'upgrade', ',', 'so', 'make', 'sure', 'to', 'save', 'translations', 'you', 'want', 'to', 'remember', 'for', 'ease', 'of', 'access', 'later', '.']\n",
      "['Transalation', 'history', 'will', 'soon', 'only', 'be', 'available', 'when', 'you', 'are', 'signed', 'in', 'andwill', 'be', 'centrally', 'managed', 'within', 'my', 'activity', '.']\n",
      "['Past', 'History', 'will', 'be', 'cleares', 'during', 'this', 'upgrade', ',', 'so', 'make', 'sure', 'to', 'save', 'translations', 'you', 'want', 'to', 'remember', 'for', 'ease', 'of', 'access', 'later', '.']\n",
      "['Transalation', 'history', 'will', 'soon', 'only', 'be', 'available', 'when', 'you', 'are', 'signed', 'in', 'andwill', 'be', 'centrally', 'managed', 'within', 'my', 'activity', '.']\n",
      "['Past', 'History', 'will', 'be', 'cleares', 'during', 'this', 'upgrade', ',', 'so', 'make', 'sure', 'to', 'save', 'translations', 'you', 'want', 'to', 'remember', 'for', 'ease', 'of', 'access', 'later', '.']\n",
      "['Transalation', 'history', 'will', 'soon', 'only', 'be', 'available', 'when', 'you', 'are', 'signed', 'in', 'andwill', 'be', 'centrally', 'managed', 'within', 'my', 'activity', '.']\n",
      "['Past', 'History', 'will', 'be', 'cleares', 'during', 'this', 'upgrade', ',', 'so', 'make', 'sure', 'to', 'save', 'translations', 'you', 'want', 'to', 'remember', 'for', 'ease', 'of', 'access', 'later', '.']\n",
      "['Transalation', 'history', 'will', 'soon', 'only', 'be', 'available', 'when', 'you', 'are', 'signed', 'in', 'andwill', 'be', 'centrally', 'managed', 'within', 'my', 'activity', '.']\n",
      "['Past', 'History', 'will', 'be', 'cleares', 'during', 'this', 'upgrade', ',', 'so', 'make', 'sure', 'to', 'save', 'translations', 'you', 'want', 'to', 'remember', 'for', 'ease', 'of', 'access', 'later', '.']\n",
      "['Transalation', 'history', 'will', 'soon', 'only', 'be', 'available', 'when', 'you', 'are', 'signed', 'in', 'andwill', 'be', 'centrally', 'managed', 'within', 'my', 'activity', '.']\n",
      "['Past', 'History', 'will', 'be', 'cleares', 'during', 'this', 'upgrade', ',', 'so', 'make', 'sure', 'to', 'save', 'translations', 'you', 'want', 'to', 'remember', 'for', 'ease', 'of', 'access', 'later', '.']\n",
      "['Transalation', 'history', 'will', 'soon', 'only', 'be', 'available', 'when', 'you', 'are', 'signed', 'in', 'andwill', 'be', 'centrally', 'managed', 'within', 'my', 'activity', '.']\n",
      "['Past', 'History', 'will', 'be', 'cleares', 'during', 'this', 'upgrade', ',', 'so', 'make', 'sure', 'to', 'save', 'translations', 'you', 'want', 'to', 'remember', 'for', 'ease', 'of', 'access', 'later', '.']\n",
      "['Transalation', 'history', 'will', 'soon', 'only', 'be', 'available', 'when', 'you', 'are', 'signed', 'in', 'andwill', 'be', 'centrally', 'managed', 'within', 'my', 'activity', '.']\n",
      "['Past', 'History', 'will', 'be', 'cleares', 'during', 'this', 'upgrade', ',', 'so', 'make', 'sure', 'to', 'save', 'translations', 'you', 'want', 'to', 'remember', 'for', 'ease', 'of', 'access', 'later', '.']\n",
      "['Transalation', 'history', 'will', 'soon', 'only', 'be', 'available', 'when', 'you', 'are', 'signed', 'in', 'andwill', 'be', 'centrally', 'managed', 'within', 'my', 'activity', '.']\n",
      "['Past', 'History', 'will', 'be', 'cleares', 'during', 'this', 'upgrade', ',', 'so', 'make', 'sure', 'to', 'save', 'translations', 'you', 'want', 'to', 'remember', 'for', 'ease', 'of', 'access', 'later', '.']\n",
      "['Transalation', 'history', 'will', 'soon', 'only', 'be', 'available', 'when', 'you', 'are', 'signed', 'in', 'andwill', 'be', 'centrally', 'managed', 'within', 'my', 'activity', '.']\n",
      "['Past', 'History', 'will', 'be', 'cleares', 'during', 'this', 'upgrade', ',', 'so', 'make', 'sure', 'to', 'save', 'translations', 'you', 'want', 'to', 'remember', 'for', 'ease', 'of', 'access', 'later', '.']\n",
      "['Transalation', 'history', 'will', 'soon', 'only', 'be', 'available', 'when', 'you', 'are', 'signed', 'in', 'andwill', 'be', 'centrally', 'managed', 'within', 'my', 'activity', '.']\n",
      "['Past', 'History', 'will', 'be', 'cleares', 'during', 'this', 'upgrade', ',', 'so', 'make', 'sure', 'to', 'save', 'translations', 'you', 'want', 'to', 'remember', 'for', 'ease', 'of', 'access', 'later', '.']\n",
      "['Transalation', 'history', 'will', 'soon', 'only', 'be', 'available', 'when', 'you', 'are', 'signed', 'in', 'andwill', 'be', 'centrally', 'managed', 'within', 'my', 'activity', '.']\n",
      "['Past', 'History', 'will', 'be', 'cleares', 'during', 'this', 'upgrade', ',', 'so', 'make', 'sure', 'to', 'save', 'translations', 'you', 'want', 'to', 'remember', 'for', 'ease', 'of', 'access', 'later', '.']\n",
      "['Transalation', 'history', 'will', 'soon', 'only', 'be', 'available', 'when', 'you', 'are', 'signed', 'in', 'andwill', 'be', 'centrally', 'managed', 'within', 'my', 'activity', '.']\n",
      "['Past', 'History', 'will', 'be', 'cleares', 'during', 'this', 'upgrade', ',', 'so', 'make', 'sure', 'to', 'save', 'translations', 'you', 'want', 'to', 'remember', 'for', 'ease', 'of', 'access', 'later', '.']\n",
      "['Transalation', 'history', 'will', 'soon', 'only', 'be', 'available', 'when', 'you', 'are', 'signed', 'in', 'andwill', 'be', 'centrally', 'managed', 'within', 'my', 'activity', '.']\n",
      "['Past', 'History', 'will', 'be', 'cleares', 'during', 'this', 'upgrade', ',', 'so', 'make', 'sure', 'to', 'save', 'translations', 'you', 'want', 'to', 'remember', 'for', 'ease', 'of', 'access', 'later', '.']\n",
      "['Transalation', 'history', 'will', 'soon', 'only', 'be', 'available', 'when', 'you', 'are', 'signed', 'in', 'andwill', 'be', 'centrally', 'managed', 'within', 'my', 'activity', '.']\n",
      "['Past', 'History', 'will', 'be', 'cleares', 'during', 'this', 'upgrade', ',', 'so', 'make', 'sure', 'to', 'save', 'translations', 'you', 'want', 'to', 'remember', 'for', 'ease', 'of', 'access', 'later', '.']\n",
      "['Transalation', 'history', 'will', 'soon', 'only', 'be', 'available', 'when', 'you', 'are', 'signed', 'in', 'andwill', 'be', 'centrally', 'managed', 'within', 'my', 'activity', '.']\n",
      "['Past', 'History', 'will', 'be', 'cleares', 'during', 'this', 'upgrade', ',', 'so', 'make', 'sure', 'to', 'save', 'translations', 'you', 'want', 'to', 'remember', 'for', 'ease', 'of', 'access', 'later', '.']\n",
      "['Transalation', 'history', 'will', 'soon', 'only', 'be', 'available', 'when', 'you', 'are', 'signed', 'in', 'andwill', 'be', 'centrally', 'managed', 'within', 'my', 'activity', '.']\n",
      "['Past', 'History', 'will', 'be', 'cleares', 'during', 'this', 'upgrade', ',', 'so', 'make', 'sure', 'to', 'save', 'translations', 'you', 'want', 'to', 'remember', 'for', 'ease', 'of', 'access', 'later', '.']\n",
      "['Transalation', 'history', 'will', 'soon', 'only', 'be', 'available', 'when', 'you', 'are', 'signed', 'in', 'andwill', 'be', 'centrally', 'managed', 'within', 'my', 'activity', '.']\n",
      "['Past', 'History', 'will', 'be', 'cleares', 'during', 'this', 'upgrade', ',', 'so', 'make', 'sure', 'to', 'save', 'translations', 'you', 'want', 'to', 'remember', 'for', 'ease', 'of', 'access', 'later', '.']\n",
      "['Transalation', 'history', 'will', 'soon', 'only', 'be', 'available', 'when', 'you', 'are', 'signed', 'in', 'andwill', 'be', 'centrally', 'managed', 'within', 'my', 'activity', '.']\n",
      "['Past', 'History', 'will', 'be', 'cleares', 'during', 'this', 'upgrade', ',', 'so', 'make', 'sure', 'to', 'save', 'translations', 'you', 'want', 'to', 'remember', 'for', 'ease', 'of', 'access', 'later', '.']\n",
      "['Transalation', 'history', 'will', 'soon', 'only', 'be', 'available', 'when', 'you', 'are', 'signed', 'in', 'andwill', 'be', 'centrally', 'managed', 'within', 'my', 'activity', '.']\n",
      "['Past', 'History', 'will', 'be', 'cleares', 'during', 'this', 'upgrade', ',', 'so', 'make', 'sure', 'to', 'save', 'translations', 'you', 'want', 'to', 'remember', 'for', 'ease', 'of', 'access', 'later', '.']\n",
      "['Transalation', 'history', 'will', 'soon', 'only', 'be', 'available', 'when', 'you', 'are', 'signed', 'in', 'andwill', 'be', 'centrally', 'managed', 'within', 'my', 'activity', '.']\n",
      "['Past', 'History', 'will', 'be', 'cleares', 'during', 'this', 'upgrade', ',', 'so', 'make', 'sure', 'to', 'save', 'translations', 'you', 'want', 'to', 'remember', 'for', 'ease', 'of', 'access', 'later', '.']\n",
      "['Transalation', 'history', 'will', 'soon', 'only', 'be', 'available', 'when', 'you', 'are', 'signed', 'in', 'andwill', 'be', 'centrally', 'managed', 'within', 'my', 'activity', '.']\n",
      "['Past', 'History', 'will', 'be', 'cleares', 'during', 'this', 'upgrade', ',', 'so', 'make', 'sure', 'to', 'save', 'translations', 'you', 'want', 'to', 'remember', 'for', 'ease', 'of', 'access', 'later', '.']\n",
      "['Transalation', 'history', 'will', 'soon', 'only', 'be', 'available', 'when', 'you', 'are', 'signed', 'in', 'andwill', 'be', 'centrally', 'managed', 'within', 'my', 'activity', '.']\n",
      "['Past', 'History', 'will', 'be', 'cleares', 'during', 'this', 'upgrade', ',', 'so', 'make', 'sure', 'to', 'save', 'translations', 'you', 'want', 'to', 'remember', 'for', 'ease', 'of', 'access', 'later', '.']\n",
      "['Transalation', 'history', 'will', 'soon', 'only', 'be', 'available', 'when', 'you', 'are', 'signed', 'in', 'andwill', 'be', 'centrally', 'managed', 'within', 'my', 'activity', '.']\n",
      "['Past', 'History', 'will', 'be', 'cleares', 'during', 'this', 'upgrade', ',', 'so', 'make', 'sure', 'to', 'save', 'translations', 'you', 'want', 'to', 'remember', 'for', 'ease', 'of', 'access', 'later', '.']\n",
      "['Transalation', 'history', 'will', 'soon', 'only', 'be', 'available', 'when', 'you', 'are', 'signed', 'in', 'andwill', 'be', 'centrally', 'managed', 'within', 'my', 'activity', '.']\n",
      "['Past', 'History', 'will', 'be', 'cleares', 'during', 'this', 'upgrade', ',', 'so', 'make', 'sure', 'to', 'save', 'translations', 'you', 'want', 'to', 'remember', 'for', 'ease', 'of', 'access', 'later', '.']\n",
      "['Transalation', 'history', 'will', 'soon', 'only', 'be', 'available', 'when', 'you', 'are', 'signed', 'in', 'andwill', 'be', 'centrally', 'managed', 'within', 'my', 'activity', '.']\n",
      "['Past', 'History', 'will', 'be', 'cleares', 'during', 'this', 'upgrade', ',', 'so', 'make', 'sure', 'to', 'save', 'translations', 'you', 'want', 'to', 'remember', 'for', 'ease', 'of', 'access', 'later', '.']\n",
      "['Transalation', 'history', 'will', 'soon', 'only', 'be', 'available', 'when', 'you', 'are', 'signed', 'in', 'andwill', 'be', 'centrally', 'managed', 'within', 'my', 'activity', '.']\n",
      "['Past', 'History', 'will', 'be', 'cleares', 'during', 'this', 'upgrade', ',', 'so', 'make', 'sure', 'to', 'save', 'translations', 'you', 'want', 'to', 'remember', 'for', 'ease', 'of', 'access', 'later', '.']\n",
      "['Transalation', 'history', 'will', 'soon', 'only', 'be', 'available', 'when', 'you', 'are', 'signed', 'in', 'andwill', 'be', 'centrally', 'managed', 'within', 'my', 'activity', '.']\n",
      "['Past', 'History', 'will', 'be', 'cleares', 'during', 'this', 'upgrade', ',', 'so', 'make', 'sure', 'to', 'save', 'translations', 'you', 'want', 'to', 'remember', 'for', 'ease', 'of', 'access', 'later', '.']\n",
      "['Transalation', 'history', 'will', 'soon', 'only', 'be', 'available', 'when', 'you', 'are', 'signed', 'in', 'andwill', 'be', 'centrally', 'managed', 'within', 'my', 'activity', '.']\n",
      "['Past', 'History', 'will', 'be', 'cleares', 'during', 'this', 'upgrade', ',', 'so', 'make', 'sure', 'to', 'save', 'translations', 'you', 'want', 'to', 'remember', 'for', 'ease', 'of', 'access', 'later', '.']\n",
      "['Transalation', 'history', 'will', 'soon', 'only', 'be', 'available', 'when', 'you', 'are', 'signed', 'in', 'andwill', 'be', 'centrally', 'managed', 'within', 'my', 'activity', '.']\n",
      "['Past', 'History', 'will', 'be', 'cleares', 'during', 'this', 'upgrade', ',', 'so', 'make', 'sure', 'to', 'save', 'translations', 'you', 'want', 'to', 'remember', 'for', 'ease', 'of', 'access', 'later', '.']\n",
      "['Transalation', 'history', 'will', 'soon', 'only', 'be', 'available', 'when', 'you', 'are', 'signed', 'in', 'andwill', 'be', 'centrally', 'managed', 'within', 'my', 'activity', '.']\n",
      "['Past', 'History', 'will', 'be', 'cleares', 'during', 'this', 'upgrade', ',', 'so', 'make', 'sure', 'to', 'save', 'translations', 'you', 'want', 'to', 'remember', 'for', 'ease', 'of', 'access', 'later', '.']\n",
      "['Transalation', 'history', 'will', 'soon', 'only', 'be', 'available', 'when', 'you', 'are', 'signed', 'in', 'andwill', 'be', 'centrally', 'managed', 'within', 'my', 'activity', '.']\n",
      "['Past', 'History', 'will', 'be', 'cleares', 'during', 'this', 'upgrade', ',', 'so', 'make', 'sure', 'to', 'save', 'translations', 'you', 'want', 'to', 'remember', 'for', 'ease', 'of', 'access', 'later', '.']\n",
      "['Transalation', 'history', 'will', 'soon', 'only', 'be', 'available', 'when', 'you', 'are', 'signed', 'in', 'andwill', 'be', 'centrally', 'managed', 'within', 'my', 'activity', '.']\n",
      "['Past', 'History', 'will', 'be', 'cleares', 'during', 'this', 'upgrade', ',', 'so', 'make', 'sure', 'to', 'save', 'translations', 'you', 'want', 'to', 'remember', 'for', 'ease', 'of', 'access', 'later', '.']\n",
      "['Transalation', 'history', 'will', 'soon', 'only', 'be', 'available', 'when', 'you', 'are', 'signed', 'in', 'andwill', 'be', 'centrally', 'managed', 'within', 'my', 'activity', '.']\n",
      "['Past', 'History', 'will', 'be', 'cleares', 'during', 'this', 'upgrade', ',', 'so', 'make', 'sure', 'to', 'save', 'translations', 'you', 'want', 'to', 'remember', 'for', 'ease', 'of', 'access', 'later', '.']\n",
      "['Transalation', 'history', 'will', 'soon', 'only', 'be', 'available', 'when', 'you', 'are', 'signed', 'in', 'andwill', 'be', 'centrally', 'managed', 'within', 'my', 'activity', '.']\n",
      "['Past', 'History', 'will', 'be', 'cleares', 'during', 'this', 'upgrade', ',', 'so', 'make', 'sure', 'to', 'save', 'translations', 'you', 'want', 'to', 'remember', 'for', 'ease', 'of', 'access', 'later', '.']\n",
      "['Transalation', 'history', 'will', 'soon', 'only', 'be', 'available', 'when', 'you', 'are', 'signed', 'in', 'andwill', 'be', 'centrally', 'managed', 'within', 'my', 'activity', '.']\n",
      "['Past', 'History', 'will', 'be', 'cleares', 'during', 'this', 'upgrade', ',', 'so', 'make', 'sure', 'to', 'save', 'translations', 'you', 'want', 'to', 'remember', 'for', 'ease', 'of', 'access', 'later', '.']\n",
      "['Transalation', 'history', 'will', 'soon', 'only', 'be', 'available', 'when', 'you', 'are', 'signed', 'in', 'andwill', 'be', 'centrally', 'managed', 'within', 'my', 'activity', '.']\n",
      "['Past', 'History', 'will', 'be', 'cleares', 'during', 'this', 'upgrade', ',', 'so', 'make', 'sure', 'to', 'save', 'translations', 'you', 'want', 'to', 'remember', 'for', 'ease', 'of', 'access', 'later', '.']\n",
      "['Transalation', 'history', 'will', 'soon', 'only', 'be', 'available', 'when', 'you', 'are', 'signed', 'in', 'andwill', 'be', 'centrally', 'managed', 'within', 'my', 'activity', '.']\n",
      "['Past', 'History', 'will', 'be', 'cleares', 'during', 'this', 'upgrade', ',', 'so', 'make', 'sure', 'to', 'save', 'translations', 'you', 'want', 'to', 'remember', 'for', 'ease', 'of', 'access', 'later', '.']\n",
      "['Transalation', 'history', 'will', 'soon', 'only', 'be', 'available', 'when', 'you', 'are', 'signed', 'in', 'andwill', 'be', 'centrally', 'managed', 'within', 'my', 'activity', '.']\n",
      "['Past', 'History', 'will', 'be', 'cleares', 'during', 'this', 'upgrade', ',', 'so', 'make', 'sure', 'to', 'save', 'translations', 'you', 'want', 'to', 'remember', 'for', 'ease', 'of', 'access', 'later', '.']\n",
      "['Transalation', 'history', 'will', 'soon', 'only', 'be', 'available', 'when', 'you', 'are', 'signed', 'in', 'andwill', 'be', 'centrally', 'managed', 'within', 'my', 'activity', '.']\n",
      "['Past', 'History', 'will', 'be', 'cleares', 'during', 'this', 'upgrade', ',', 'so', 'make', 'sure', 'to', 'save', 'translations', 'you', 'want', 'to', 'remember', 'for', 'ease', 'of', 'access', 'later', '.']\n",
      "['Transalation', 'history', 'will', 'soon', 'only', 'be', 'available', 'when', 'you', 'are', 'signed', 'in', 'andwill', 'be', 'centrally', 'managed', 'within', 'my', 'activity', '.']\n",
      "['Past', 'History', 'will', 'be', 'cleares', 'during', 'this', 'upgrade', ',', 'so', 'make', 'sure', 'to', 'save', 'translations', 'you', 'want', 'to', 'remember', 'for', 'ease', 'of', 'access', 'later', '.']\n",
      "['Transalation', 'history', 'will', 'soon', 'only', 'be', 'available', 'when', 'you', 'are', 'signed', 'in', 'andwill', 'be', 'centrally', 'managed', 'within', 'my', 'activity', '.']\n",
      "['Past', 'History', 'will', 'be', 'cleares', 'during', 'this', 'upgrade', ',', 'so', 'make', 'sure', 'to', 'save', 'translations', 'you', 'want', 'to', 'remember', 'for', 'ease', 'of', 'access', 'later', '.']\n",
      "['Transalation', 'history', 'will', 'soon', 'only', 'be', 'available', 'when', 'you', 'are', 'signed', 'in', 'andwill', 'be', 'centrally', 'managed', 'within', 'my', 'activity', '.']\n",
      "['Past', 'History', 'will', 'be', 'cleares', 'during', 'this', 'upgrade', ',', 'so', 'make', 'sure', 'to', 'save', 'translations', 'you', 'want', 'to', 'remember', 'for', 'ease', 'of', 'access', 'later', '.']\n",
      "['Transalation', 'history', 'will', 'soon', 'only', 'be', 'available', 'when', 'you', 'are', 'signed', 'in', 'andwill', 'be', 'centrally', 'managed', 'within', 'my', 'activity', '.']\n",
      "['Past', 'History', 'will', 'be', 'cleares', 'during', 'this', 'upgrade', ',', 'so', 'make', 'sure', 'to', 'save', 'translations', 'you', 'want', 'to', 'remember', 'for', 'ease', 'of', 'access', 'later', '.']\n",
      "['Transalation', 'history', 'will', 'soon', 'only', 'be', 'available', 'when', 'you', 'are', 'signed', 'in', 'andwill', 'be', 'centrally', 'managed', 'within', 'my', 'activity', '.']\n",
      "['Past', 'History', 'will', 'be', 'cleares', 'during', 'this', 'upgrade', ',', 'so', 'make', 'sure', 'to', 'save', 'translations', 'you', 'want', 'to', 'remember', 'for', 'ease', 'of', 'access', 'later', '.']\n",
      "['Transalation', 'history', 'will', 'soon', 'only', 'be', 'available', 'when', 'you', 'are', 'signed', 'in', 'andwill', 'be', 'centrally', 'managed', 'within', 'my', 'activity', '.']\n",
      "['Past', 'History', 'will', 'be', 'cleares', 'during', 'this', 'upgrade', ',', 'so', 'make', 'sure', 'to', 'save', 'translations', 'you', 'want', 'to', 'remember', 'for', 'ease', 'of', 'access', 'later', '.']\n",
      "['Transalation', 'history', 'will', 'soon', 'only', 'be', 'available', 'when', 'you', 'are', 'signed', 'in', 'andwill', 'be', 'centrally', 'managed', 'within', 'my', 'activity', '.']\n",
      "['Past', 'History', 'will', 'be', 'cleares', 'during', 'this', 'upgrade', ',', 'so', 'make', 'sure', 'to', 'save', 'translations', 'you', 'want', 'to', 'remember', 'for', 'ease', 'of', 'access', 'later', '.']\n",
      "['Transalation', 'history', 'will', 'soon', 'only', 'be', 'available', 'when', 'you', 'are', 'signed', 'in', 'andwill', 'be', 'centrally', 'managed', 'within', 'my', 'activity', '.']\n",
      "['Past', 'History', 'will', 'be', 'cleares', 'during', 'this', 'upgrade', ',', 'so', 'make', 'sure', 'to', 'save', 'translations', 'you', 'want', 'to', 'remember', 'for', 'ease', 'of', 'access', 'later', '.']\n",
      "['Transalation', 'history', 'will', 'soon', 'only', 'be', 'available', 'when', 'you', 'are', 'signed', 'in', 'andwill', 'be', 'centrally', 'managed', 'within', 'my', 'activity', '.']\n",
      "['Past', 'History', 'will', 'be', 'cleares', 'during', 'this', 'upgrade', ',', 'so', 'make', 'sure', 'to', 'save', 'translations', 'you', 'want', 'to', 'remember', 'for', 'ease', 'of', 'access', 'later', '.']\n",
      "['Transalation', 'history', 'will', 'soon', 'only', 'be', 'available', 'when', 'you', 'are', 'signed', 'in', 'andwill', 'be', 'centrally', 'managed', 'within', 'my', 'activity', '.']\n",
      "['Past', 'History', 'will', 'be', 'cleares', 'during', 'this', 'upgrade', ',', 'so', 'make', 'sure', 'to', 'save', 'translations', 'you', 'want', 'to', 'remember', 'for', 'ease', 'of', 'access', 'later', '.']\n",
      "['Transalation', 'history', 'will', 'soon', 'only', 'be', 'available', 'when', 'you', 'are', 'signed', 'in', 'andwill', 'be', 'centrally', 'managed', 'within', 'my', 'activity', '.']\n",
      "['Past', 'History', 'will', 'be', 'cleares', 'during', 'this', 'upgrade', ',', 'so', 'make', 'sure', 'to', 'save', 'translations', 'you', 'want', 'to', 'remember', 'for', 'ease', 'of', 'access', 'later', '.']\n",
      "['Transalation', 'history', 'will', 'soon', 'only', 'be', 'available', 'when', 'you', 'are', 'signed', 'in', 'andwill', 'be', 'centrally', 'managed', 'within', 'my', 'activity', '.']\n",
      "['Past', 'History', 'will', 'be', 'cleares', 'during', 'this', 'upgrade', ',', 'so', 'make', 'sure', 'to', 'save', 'translations', 'you', 'want', 'to', 'remember', 'for', 'ease', 'of', 'access', 'later', '.']\n",
      "['Transalation', 'history', 'will', 'soon', 'only', 'be', 'available', 'when', 'you', 'are', 'signed', 'in', 'andwill', 'be', 'centrally', 'managed', 'within', 'my', 'activity', '.']\n",
      "['Past', 'History', 'will', 'be', 'cleares', 'during', 'this', 'upgrade', ',', 'so', 'make', 'sure', 'to', 'save', 'translations', 'you', 'want', 'to', 'remember', 'for', 'ease', 'of', 'access', 'later', '.']\n",
      "['Transalation', 'history', 'will', 'soon', 'only', 'be', 'available', 'when', 'you', 'are', 'signed', 'in', 'andwill', 'be', 'centrally', 'managed', 'within', 'my', 'activity', '.']\n",
      "['Past', 'History', 'will', 'be', 'cleares', 'during', 'this', 'upgrade', ',', 'so', 'make', 'sure', 'to', 'save', 'translations', 'you', 'want', 'to', 'remember', 'for', 'ease', 'of', 'access', 'later', '.']\n",
      "['Transalation', 'history', 'will', 'soon', 'only', 'be', 'available', 'when', 'you', 'are', 'signed', 'in', 'andwill', 'be', 'centrally', 'managed', 'within', 'my', 'activity', '.']\n",
      "['Past', 'History', 'will', 'be', 'cleares', 'during', 'this', 'upgrade', ',', 'so', 'make', 'sure', 'to', 'save', 'translations', 'you', 'want', 'to', 'remember', 'for', 'ease', 'of', 'access', 'later', '.']\n",
      "['Transalation', 'history', 'will', 'soon', 'only', 'be', 'available', 'when', 'you', 'are', 'signed', 'in', 'andwill', 'be', 'centrally', 'managed', 'within', 'my', 'activity', '.']\n",
      "['Past', 'History', 'will', 'be', 'cleares', 'during', 'this', 'upgrade', ',', 'so', 'make', 'sure', 'to', 'save', 'translations', 'you', 'want', 'to', 'remember', 'for', 'ease', 'of', 'access', 'later', '.']\n",
      "['Transalation', 'history', 'will', 'soon', 'only', 'be', 'available', 'when', 'you', 'are', 'signed', 'in', 'andwill', 'be', 'centrally', 'managed', 'within', 'my', 'activity', '.']\n",
      "['Past', 'History', 'will', 'be', 'cleares', 'during', 'this', 'upgrade', ',', 'so', 'make', 'sure', 'to', 'save', 'translations', 'you', 'want', 'to', 'remember', 'for', 'ease', 'of', 'access', 'later', '.']\n",
      "['Transalation', 'history', 'will', 'soon', 'only', 'be', 'available', 'when', 'you', 'are', 'signed', 'in', 'andwill', 'be', 'centrally', 'managed', 'within', 'my', 'activity', '.']\n",
      "['Past', 'History', 'will', 'be', 'cleares', 'during', 'this', 'upgrade', ',', 'so', 'make', 'sure', 'to', 'save', 'translations', 'you', 'want', 'to', 'remember', 'for', 'ease', 'of', 'access', 'later', '.']\n",
      "['Transalation', 'history', 'will', 'soon', 'only', 'be', 'available', 'when', 'you', 'are', 'signed', 'in', 'andwill', 'be', 'centrally', 'managed', 'within', 'my', 'activity', '.']\n",
      "['Past', 'History', 'will', 'be', 'cleares', 'during', 'this', 'upgrade', ',', 'so', 'make', 'sure', 'to', 'save', 'translations', 'you', 'want', 'to', 'remember', 'for', 'ease', 'of', 'access', 'later', '.']\n",
      "['Transalation', 'history', 'will', 'soon', 'only', 'be', 'available', 'when', 'you', 'are', 'signed', 'in', 'andwill', 'be', 'centrally', 'managed', 'within', 'my', 'activity', '.']\n",
      "['Past', 'History', 'will', 'be', 'cleares', 'during', 'this', 'upgrade', ',', 'so', 'make', 'sure', 'to', 'save', 'translations', 'you', 'want', 'to', 'remember', 'for', 'ease', 'of', 'access', 'later', '.']\n",
      "['Transalation', 'history', 'will', 'soon', 'only', 'be', 'available', 'when', 'you', 'are', 'signed', 'in', 'andwill', 'be', 'centrally', 'managed', 'within', 'my', 'activity', '.']\n",
      "['Past', 'History', 'will', 'be', 'cleares', 'during', 'this', 'upgrade', ',', 'so', 'make', 'sure', 'to', 'save', 'translations', 'you', 'want', 'to', 'remember', 'for', 'ease', 'of', 'access', 'later', '.']\n",
      "['Transalation', 'history', 'will', 'soon', 'only', 'be', 'available', 'when', 'you', 'are', 'signed', 'in', 'andwill', 'be', 'centrally', 'managed', 'within', 'my', 'activity', '.']\n",
      "['Past', 'History', 'will', 'be', 'cleares', 'during', 'this', 'upgrade', ',', 'so', 'make', 'sure', 'to', 'save', 'translations', 'you', 'want', 'to', 'remember', 'for', 'ease', 'of', 'access', 'later', '.']\n",
      "['Transalation', 'history', 'will', 'soon', 'only', 'be', 'available', 'when', 'you', 'are', 'signed', 'in', 'andwill', 'be', 'centrally', 'managed', 'within', 'my', 'activity', '.']\n",
      "['Past', 'History', 'will', 'be', 'cleares', 'during', 'this', 'upgrade', ',', 'so', 'make', 'sure', 'to', 'save', 'translations', 'you', 'want', 'to', 'remember', 'for', 'ease', 'of', 'access', 'later', '.']\n",
      "['Transalation', 'history', 'will', 'soon', 'only', 'be', 'available', 'when', 'you', 'are', 'signed', 'in', 'andwill', 'be', 'centrally', 'managed', 'within', 'my', 'activity', '.']\n",
      "['Past', 'History', 'will', 'be', 'cleares', 'during', 'this', 'upgrade', ',', 'so', 'make', 'sure', 'to', 'save', 'translations', 'you', 'want', 'to', 'remember', 'for', 'ease', 'of', 'access', 'later', '.']\n",
      "['Transalation', 'history', 'will', 'soon', 'only', 'be', 'available', 'when', 'you', 'are', 'signed', 'in', 'andwill', 'be', 'centrally', 'managed', 'within', 'my', 'activity', '.']\n",
      "['Past', 'History', 'will', 'be', 'cleares', 'during', 'this', 'upgrade', ',', 'so', 'make', 'sure', 'to', 'save', 'translations', 'you', 'want', 'to', 'remember', 'for', 'ease', 'of', 'access', 'later', '.']\n",
      "['Transalation', 'history', 'will', 'soon', 'only', 'be', 'available', 'when', 'you', 'are', 'signed', 'in', 'andwill', 'be', 'centrally', 'managed', 'within', 'my', 'activity', '.']\n",
      "['Past', 'History', 'will', 'be', 'cleares', 'during', 'this', 'upgrade', ',', 'so', 'make', 'sure', 'to', 'save', 'translations', 'you', 'want', 'to', 'remember', 'for', 'ease', 'of', 'access', 'later', '.']\n",
      "['Transalation', 'history', 'will', 'soon', 'only', 'be', 'available', 'when', 'you', 'are', 'signed', 'in', 'andwill', 'be', 'centrally', 'managed', 'within', 'my', 'activity', '.']\n",
      "['Past', 'History', 'will', 'be', 'cleares', 'during', 'this', 'upgrade', ',', 'so', 'make', 'sure', 'to', 'save', 'translations', 'you', 'want', 'to', 'remember', 'for', 'ease', 'of', 'access', 'later', '.']\n",
      "['Transalation', 'history', 'will', 'soon', 'only', 'be', 'available', 'when', 'you', 'are', 'signed', 'in', 'andwill', 'be', 'centrally', 'managed', 'within', 'my', 'activity', '.']\n",
      "['Past', 'History', 'will', 'be', 'cleares', 'during', 'this', 'upgrade', ',', 'so', 'make', 'sure', 'to', 'save', 'translations', 'you', 'want', 'to', 'remember', 'for', 'ease', 'of', 'access', 'later', '.']\n",
      "['Transalation', 'history', 'will', 'soon', 'only', 'be', 'available', 'when', 'you', 'are', 'signed', 'in', 'andwill', 'be', 'centrally', 'managed', 'within', 'my', 'activity', '.']\n",
      "['Past', 'History', 'will', 'be', 'cleares', 'during', 'this', 'upgrade', ',', 'so', 'make', 'sure', 'to', 'save', 'translations', 'you', 'want', 'to', 'remember', 'for', 'ease', 'of', 'access', 'later', '.']\n",
      "['Transalation', 'history', 'will', 'soon', 'only', 'be', 'available', 'when', 'you', 'are', 'signed', 'in', 'andwill', 'be', 'centrally', 'managed', 'within', 'my', 'activity', '.']\n",
      "['Past', 'History', 'will', 'be', 'cleares', 'during', 'this', 'upgrade', ',', 'so', 'make', 'sure', 'to', 'save', 'translations', 'you', 'want', 'to', 'remember', 'for', 'ease', 'of', 'access', 'later', '.']\n",
      "['Transalation', 'history', 'will', 'soon', 'only', 'be', 'available', 'when', 'you', 'are', 'signed', 'in', 'andwill', 'be', 'centrally', 'managed', 'within', 'my', 'activity', '.']\n",
      "['Past', 'History', 'will', 'be', 'cleares', 'during', 'this', 'upgrade', ',', 'so', 'make', 'sure', 'to', 'save', 'translations', 'you', 'want', 'to', 'remember', 'for', 'ease', 'of', 'access', 'later', '.']\n",
      "['Transalation', 'history', 'will', 'soon', 'only', 'be', 'available', 'when', 'you', 'are', 'signed', 'in', 'andwill', 'be', 'centrally', 'managed', 'within', 'my', 'activity', '.']\n",
      "['Past', 'History', 'will', 'be', 'cleares', 'during', 'this', 'upgrade', ',', 'so', 'make', 'sure', 'to', 'save', 'translations', 'you', 'want', 'to', 'remember', 'for', 'ease', 'of', 'access', 'later', '.']\n",
      "['Transalation', 'history', 'will', 'soon', 'only', 'be', 'available', 'when', 'you', 'are', 'signed', 'in', 'andwill', 'be', 'centrally', 'managed', 'within', 'my', 'activity', '.']\n",
      "['Past', 'History', 'will', 'be', 'cleares', 'during', 'this', 'upgrade', ',', 'so', 'make', 'sure', 'to', 'save', 'translations', 'you', 'want', 'to', 'remember', 'for', 'ease', 'of', 'access', 'later', '.']\n",
      "['Transalation', 'history', 'will', 'soon', 'only', 'be', 'available', 'when', 'you', 'are', 'signed', 'in', 'andwill', 'be', 'centrally', 'managed', 'within', 'my', 'activity', '.']\n",
      "['Past', 'History', 'will', 'be', 'cleares', 'during', 'this', 'upgrade', ',', 'so', 'make', 'sure', 'to', 'save', 'translations', 'you', 'want', 'to', 'remember', 'for', 'ease', 'of', 'access', 'later', '.']\n",
      "['Transalation', 'history', 'will', 'soon', 'only', 'be', 'available', 'when', 'you', 'are', 'signed', 'in', 'andwill', 'be', 'centrally', 'managed', 'within', 'my', 'activity', '.']\n",
      "['Past', 'History', 'will', 'be', 'cleares', 'during', 'this', 'upgrade', ',', 'so', 'make', 'sure', 'to', 'save', 'translations', 'you', 'want', 'to', 'remember', 'for', 'ease', 'of', 'access', 'later', '.']\n",
      "['Transalation', 'history', 'will', 'soon', 'only', 'be', 'available', 'when', 'you', 'are', 'signed', 'in', 'andwill', 'be', 'centrally', 'managed', 'within', 'my', 'activity', '.']\n",
      "['Past', 'History', 'will', 'be', 'cleares', 'during', 'this', 'upgrade', ',', 'so', 'make', 'sure', 'to', 'save', 'translations', 'you', 'want', 'to', 'remember', 'for', 'ease', 'of', 'access', 'later', '.']\n",
      "['Transalation', 'history', 'will', 'soon', 'only', 'be', 'available', 'when', 'you', 'are', 'signed', 'in', 'andwill', 'be', 'centrally', 'managed', 'within', 'my', 'activity', '.']\n",
      "['Past', 'History', 'will', 'be', 'cleares', 'during', 'this', 'upgrade', ',', 'so', 'make', 'sure', 'to', 'save', 'translations', 'you', 'want', 'to', 'remember', 'for', 'ease', 'of', 'access', 'later', '.']\n",
      "['Transalation', 'history', 'will', 'soon', 'only', 'be', 'available', 'when', 'you', 'are', 'signed', 'in', 'andwill', 'be', 'centrally', 'managed', 'within', 'my', 'activity', '.']\n",
      "['Past', 'History', 'will', 'be', 'cleares', 'during', 'this', 'upgrade', ',', 'so', 'make', 'sure', 'to', 'save', 'translations', 'you', 'want', 'to', 'remember', 'for', 'ease', 'of', 'access', 'later', '.']\n",
      "['Transalation', 'history', 'will', 'soon', 'only', 'be', 'available', 'when', 'you', 'are', 'signed', 'in', 'andwill', 'be', 'centrally', 'managed', 'within', 'my', 'activity', '.']\n",
      "['Past', 'History', 'will', 'be', 'cleares', 'during', 'this', 'upgrade', ',', 'so', 'make', 'sure', 'to', 'save', 'translations', 'you', 'want', 'to', 'remember', 'for', 'ease', 'of', 'access', 'later', '.']\n",
      "['Transalation', 'history', 'will', 'soon', 'only', 'be', 'available', 'when', 'you', 'are', 'signed', 'in', 'andwill', 'be', 'centrally', 'managed', 'within', 'my', 'activity', '.']\n",
      "['Past', 'History', 'will', 'be', 'cleares', 'during', 'this', 'upgrade', ',', 'so', 'make', 'sure', 'to', 'save', 'translations', 'you', 'want', 'to', 'remember', 'for', 'ease', 'of', 'access', 'later', '.']\n",
      "['Transalation', 'history', 'will', 'soon', 'only', 'be', 'available', 'when', 'you', 'are', 'signed', 'in', 'andwill', 'be', 'centrally', 'managed', 'within', 'my', 'activity', '.']\n",
      "['Past', 'History', 'will', 'be', 'cleares', 'during', 'this', 'upgrade', ',', 'so', 'make', 'sure', 'to', 'save', 'translations', 'you', 'want', 'to', 'remember', 'for', 'ease', 'of', 'access', 'later', '.']\n",
      "['Transalation', 'history', 'will', 'soon', 'only', 'be', 'available', 'when', 'you', 'are', 'signed', 'in', 'andwill', 'be', 'centrally', 'managed', 'within', 'my', 'activity', '.']\n",
      "['Past', 'History', 'will', 'be', 'cleares', 'during', 'this', 'upgrade', ',', 'so', 'make', 'sure', 'to', 'save', 'translations', 'you', 'want', 'to', 'remember', 'for', 'ease', 'of', 'access', 'later', '.']\n",
      "['Transalation', 'history', 'will', 'soon', 'only', 'be', 'available', 'when', 'you', 'are', 'signed', 'in', 'andwill', 'be', 'centrally', 'managed', 'within', 'my', 'activity', '.']\n",
      "['Past', 'History', 'will', 'be', 'cleares', 'during', 'this', 'upgrade', ',', 'so', 'make', 'sure', 'to', 'save', 'translations', 'you', 'want', 'to', 'remember', 'for', 'ease', 'of', 'access', 'later', '.']\n",
      "['Transalation', 'history', 'will', 'soon', 'only', 'be', 'available', 'when', 'you', 'are', 'signed', 'in', 'andwill', 'be', 'centrally', 'managed', 'within', 'my', 'activity', '.']\n",
      "['Past', 'History', 'will', 'be', 'cleares', 'during', 'this', 'upgrade', ',', 'so', 'make', 'sure', 'to', 'save', 'translations', 'you', 'want', 'to', 'remember', 'for', 'ease', 'of', 'access', 'later', '.']\n",
      "['Transalation', 'history', 'will', 'soon', 'only', 'be', 'available', 'when', 'you', 'are', 'signed', 'in', 'andwill', 'be', 'centrally', 'managed', 'within', 'my', 'activity', '.']\n",
      "['Past', 'History', 'will', 'be', 'cleares', 'during', 'this', 'upgrade', ',', 'so', 'make', 'sure', 'to', 'save', 'translations', 'you', 'want', 'to', 'remember', 'for', 'ease', 'of', 'access', 'later', '.']\n",
      "['Transalation', 'history', 'will', 'soon', 'only', 'be', 'available', 'when', 'you', 'are', 'signed', 'in', 'andwill', 'be', 'centrally', 'managed', 'within', 'my', 'activity', '.']\n",
      "['Past', 'History', 'will', 'be', 'cleares', 'during', 'this', 'upgrade', ',', 'so', 'make', 'sure', 'to', 'save', 'translations', 'you', 'want', 'to', 'remember', 'for', 'ease', 'of', 'access', 'later', '.']\n",
      "['Transalation', 'history', 'will', 'soon', 'only', 'be', 'available', 'when', 'you', 'are', 'signed', 'in', 'andwill', 'be', 'centrally', 'managed', 'within', 'my', 'activity', '.']\n",
      "['Past', 'History', 'will', 'be', 'cleares', 'during', 'this', 'upgrade', ',', 'so', 'make', 'sure', 'to', 'save', 'translations', 'you', 'want', 'to', 'remember', 'for', 'ease', 'of', 'access', 'later', '.']\n",
      "['Transalation', 'history', 'will', 'soon', 'only', 'be', 'available', 'when', 'you', 'are', 'signed', 'in', 'andwill', 'be', 'centrally', 'managed', 'within', 'my', 'activity', '.']\n",
      "['Past', 'History', 'will', 'be', 'cleares', 'during', 'this', 'upgrade', ',', 'so', 'make', 'sure', 'to', 'save', 'translations', 'you', 'want', 'to', 'remember', 'for', 'ease', 'of', 'access', 'later', '.']\n",
      "['Transalation', 'history', 'will', 'soon', 'only', 'be', 'available', 'when', 'you', 'are', 'signed', 'in', 'andwill', 'be', 'centrally', 'managed', 'within', 'my', 'activity', '.']\n",
      "['Past', 'History', 'will', 'be', 'cleares', 'during', 'this', 'upgrade', ',', 'so', 'make', 'sure', 'to', 'save', 'translations', 'you', 'want', 'to', 'remember', 'for', 'ease', 'of', 'access', 'later', '.']\n",
      "['Transalation', 'history', 'will', 'soon', 'only', 'be', 'available', 'when', 'you', 'are', 'signed', 'in', 'andwill', 'be', 'centrally', 'managed', 'within', 'my', 'activity', '.']\n",
      "['Past', 'History', 'will', 'be', 'cleares', 'during', 'this', 'upgrade', ',', 'so', 'make', 'sure', 'to', 'save', 'translations', 'you', 'want', 'to', 'remember', 'for', 'ease', 'of', 'access', 'later', '.']\n",
      "['Transalation', 'history', 'will', 'soon', 'only', 'be', 'available', 'when', 'you', 'are', 'signed', 'in', 'andwill', 'be', 'centrally', 'managed', 'within', 'my', 'activity', '.']\n",
      "['Past', 'History', 'will', 'be', 'cleares', 'during', 'this', 'upgrade', ',', 'so', 'make', 'sure', 'to', 'save', 'translations', 'you', 'want', 'to', 'remember', 'for', 'ease', 'of', 'access', 'later', '.']\n",
      "['Transalation', 'history', 'will', 'soon', 'only', 'be', 'available', 'when', 'you', 'are', 'signed', 'in', 'andwill', 'be', 'centrally', 'managed', 'within', 'my', 'activity', '.']\n",
      "['Past', 'History', 'will', 'be', 'cleares', 'during', 'this', 'upgrade', ',', 'so', 'make', 'sure', 'to', 'save', 'translations', 'you', 'want', 'to', 'remember', 'for', 'ease', 'of', 'access', 'later', '.']\n",
      "['Transalation', 'history', 'will', 'soon', 'only', 'be', 'available', 'when', 'you', 'are', 'signed', 'in', 'andwill', 'be', 'centrally', 'managed', 'within', 'my', 'activity', '.']\n",
      "['Past', 'History', 'will', 'be', 'cleares', 'during', 'this', 'upgrade', ',', 'so', 'make', 'sure', 'to', 'save', 'translations', 'you', 'want', 'to', 'remember', 'for', 'ease', 'of', 'access', 'later', '.']\n",
      "['Transalation', 'history', 'will', 'soon', 'only', 'be', 'available', 'when', 'you', 'are', 'signed', 'in', 'andwill', 'be', 'centrally', 'managed', 'within', 'my', 'activity', '.']\n",
      "['Past', 'History', 'will', 'be', 'cleares', 'during', 'this', 'upgrade', ',', 'so', 'make', 'sure', 'to', 'save', 'translations', 'you', 'want', 'to', 'remember', 'for', 'ease', 'of', 'access', 'later', '.']\n",
      "['Transalation', 'history', 'will', 'soon', 'only', 'be', 'available', 'when', 'you', 'are', 'signed', 'in', 'andwill', 'be', 'centrally', 'managed', 'within', 'my', 'activity', '.']\n",
      "['Past', 'History', 'will', 'be', 'cleares', 'during', 'this', 'upgrade', ',', 'so', 'make', 'sure', 'to', 'save', 'translations', 'you', 'want', 'to', 'remember', 'for', 'ease', 'of', 'access', 'later', '.']\n",
      "['Transalation', 'history', 'will', 'soon', 'only', 'be', 'available', 'when', 'you', 'are', 'signed', 'in', 'andwill', 'be', 'centrally', 'managed', 'within', 'my', 'activity', '.']\n",
      "['Past', 'History', 'will', 'be', 'cleares', 'during', 'this', 'upgrade', ',', 'so', 'make', 'sure', 'to', 'save', 'translations', 'you', 'want', 'to', 'remember', 'for', 'ease', 'of', 'access', 'later', '.']\n",
      "['Transalation', 'history', 'will', 'soon', 'only', 'be', 'available', 'when', 'you', 'are', 'signed', 'in', 'andwill', 'be', 'centrally', 'managed', 'within', 'my', 'activity', '.']\n",
      "['Past', 'History', 'will', 'be', 'cleares', 'during', 'this', 'upgrade', ',', 'so', 'make', 'sure', 'to', 'save', 'translations', 'you', 'want', 'to', 'remember', 'for', 'ease', 'of', 'access', 'later', '.']\n",
      "['Transalation', 'history', 'will', 'soon', 'only', 'be', 'available', 'when', 'you', 'are', 'signed', 'in', 'andwill', 'be', 'centrally', 'managed', 'within', 'my', 'activity', '.']\n",
      "['Past', 'History', 'will', 'be', 'cleares', 'during', 'this', 'upgrade', ',', 'so', 'make', 'sure', 'to', 'save', 'translations', 'you', 'want', 'to', 'remember', 'for', 'ease', 'of', 'access', 'later', '.']\n",
      "['Transalation', 'history', 'will', 'soon', 'only', 'be', 'available', 'when', 'you', 'are', 'signed', 'in', 'andwill', 'be', 'centrally', 'managed', 'within', 'my', 'activity', '.']\n",
      "['Past', 'History', 'will', 'be', 'cleares', 'during', 'this', 'upgrade', ',', 'so', 'make', 'sure', 'to', 'save', 'translations', 'you', 'want', 'to', 'remember', 'for', 'ease', 'of', 'access', 'later', '.']\n",
      "['Transalation', 'history', 'will', 'soon', 'only', 'be', 'available', 'when', 'you', 'are', 'signed', 'in', 'andwill', 'be', 'centrally', 'managed', 'within', 'my', 'activity', '.']\n",
      "['Past', 'History', 'will', 'be', 'cleares', 'during', 'this', 'upgrade', ',', 'so', 'make', 'sure', 'to', 'save', 'translations', 'you', 'want', 'to', 'remember', 'for', 'ease', 'of', 'access', 'later', '.']\n",
      "['Transalation', 'history', 'will', 'soon', 'only', 'be', 'available', 'when', 'you', 'are', 'signed', 'in', 'andwill', 'be', 'centrally', 'managed', 'within', 'my', 'activity', '.']\n",
      "['Past', 'History', 'will', 'be', 'cleares', 'during', 'this', 'upgrade', ',', 'so', 'make', 'sure', 'to', 'save', 'translations', 'you', 'want', 'to', 'remember', 'for', 'ease', 'of', 'access', 'later', '.']\n",
      "['Transalation', 'history', 'will', 'soon', 'only', 'be', 'available', 'when', 'you', 'are', 'signed', 'in', 'andwill', 'be', 'centrally', 'managed', 'within', 'my', 'activity', '.']\n",
      "['Past', 'History', 'will', 'be', 'cleares', 'during', 'this', 'upgrade', ',', 'so', 'make', 'sure', 'to', 'save', 'translations', 'you', 'want', 'to', 'remember', 'for', 'ease', 'of', 'access', 'later', '.']\n",
      "['Transalation', 'history', 'will', 'soon', 'only', 'be', 'available', 'when', 'you', 'are', 'signed', 'in', 'andwill', 'be', 'centrally', 'managed', 'within', 'my', 'activity', '.']\n",
      "['Past', 'History', 'will', 'be', 'cleares', 'during', 'this', 'upgrade', ',', 'so', 'make', 'sure', 'to', 'save', 'translations', 'you', 'want', 'to', 'remember', 'for', 'ease', 'of', 'access', 'later', '.']\n",
      "['Transalation', 'history', 'will', 'soon', 'only', 'be', 'available', 'when', 'you', 'are', 'signed', 'in', 'andwill', 'be', 'centrally', 'managed', 'within', 'my', 'activity', '.']\n",
      "['Past', 'History', 'will', 'be', 'cleares', 'during', 'this', 'upgrade', ',', 'so', 'make', 'sure', 'to', 'save', 'translations', 'you', 'want', 'to', 'remember', 'for', 'ease', 'of', 'access', 'later', '.']\n",
      "['Transalation', 'history', 'will', 'soon', 'only', 'be', 'available', 'when', 'you', 'are', 'signed', 'in', 'andwill', 'be', 'centrally', 'managed', 'within', 'my', 'activity', '.']\n",
      "['Past', 'History', 'will', 'be', 'cleares', 'during', 'this', 'upgrade', ',', 'so', 'make', 'sure', 'to', 'save', 'translations', 'you', 'want', 'to', 'remember', 'for', 'ease', 'of', 'access', 'later', '.']\n",
      "['Transalation', 'history', 'will', 'soon', 'only', 'be', 'available', 'when', 'you', 'are', 'signed', 'in', 'andwill', 'be', 'centrally', 'managed', 'within', 'my', 'activity', '.']\n",
      "['Past', 'History', 'will', 'be', 'cleares', 'during', 'this', 'upgrade', ',', 'so', 'make', 'sure', 'to', 'save', 'translations', 'you', 'want', 'to', 'remember', 'for', 'ease', 'of', 'access', 'later', '.']\n",
      "['Transalation', 'history', 'will', 'soon', 'only', 'be', 'available', 'when', 'you', 'are', 'signed', 'in', 'andwill', 'be', 'centrally', 'managed', 'within', 'my', 'activity', '.']\n",
      "['Past', 'History', 'will', 'be', 'cleares', 'during', 'this', 'upgrade', ',', 'so', 'make', 'sure', 'to', 'save', 'translations', 'you', 'want', 'to', 'remember', 'for', 'ease', 'of', 'access', 'later', '.']\n",
      "['Transalation', 'history', 'will', 'soon', 'only', 'be', 'available', 'when', 'you', 'are', 'signed', 'in', 'andwill', 'be', 'centrally', 'managed', 'within', 'my', 'activity', '.']\n",
      "['Past', 'History', 'will', 'be', 'cleares', 'during', 'this', 'upgrade', ',', 'so', 'make', 'sure', 'to', 'save', 'translations', 'you', 'want', 'to', 'remember', 'for', 'ease', 'of', 'access', 'later', '.']\n",
      "['Transalation', 'history', 'will', 'soon', 'only', 'be', 'available', 'when', 'you', 'are', 'signed', 'in', 'andwill', 'be', 'centrally', 'managed', 'within', 'my', 'activity', '.']\n",
      "['Past', 'History', 'will', 'be', 'cleares', 'during', 'this', 'upgrade', ',', 'so', 'make', 'sure', 'to', 'save', 'translations', 'you', 'want', 'to', 'remember', 'for', 'ease', 'of', 'access', 'later', '.']\n",
      "['Transalation', 'history', 'will', 'soon', 'only', 'be', 'available', 'when', 'you', 'are', 'signed', 'in', 'andwill', 'be', 'centrally', 'managed', 'within', 'my', 'activity', '.']\n",
      "['Past', 'History', 'will', 'be', 'cleares', 'during', 'this', 'upgrade', ',', 'so', 'make', 'sure', 'to', 'save', 'translations', 'you', 'want', 'to', 'remember', 'for', 'ease', 'of', 'access', 'later', '.']\n",
      "['Transalation', 'history', 'will', 'soon', 'only', 'be', 'available', 'when', 'you', 'are', 'signed', 'in', 'andwill', 'be', 'centrally', 'managed', 'within', 'my', 'activity', '.']\n",
      "['Past', 'History', 'will', 'be', 'cleares', 'during', 'this', 'upgrade', ',', 'so', 'make', 'sure', 'to', 'save', 'translations', 'you', 'want', 'to', 'remember', 'for', 'ease', 'of', 'access', 'later', '.']\n",
      "['Transalation', 'history', 'will', 'soon', 'only', 'be', 'available', 'when', 'you', 'are', 'signed', 'in', 'andwill', 'be', 'centrally', 'managed', 'within', 'my', 'activity', '.']\n",
      "['Past', 'History', 'will', 'be', 'cleares', 'during', 'this', 'upgrade', ',', 'so', 'make', 'sure', 'to', 'save', 'translations', 'you', 'want', 'to', 'remember', 'for', 'ease', 'of', 'access', 'later', '.']\n",
      "['Transalation', 'history', 'will', 'soon', 'only', 'be', 'available', 'when', 'you', 'are', 'signed', 'in', 'andwill', 'be', 'centrally', 'managed', 'within', 'my', 'activity', '.']\n",
      "['Past', 'History', 'will', 'be', 'cleares', 'during', 'this', 'upgrade', ',', 'so', 'make', 'sure', 'to', 'save', 'translations', 'you', 'want', 'to', 'remember', 'for', 'ease', 'of', 'access', 'later', '.']\n",
      "['Transalation', 'history', 'will', 'soon', 'only', 'be', 'available', 'when', 'you', 'are', 'signed', 'in', 'andwill', 'be', 'centrally', 'managed', 'within', 'my', 'activity', '.']\n",
      "['Past', 'History', 'will', 'be', 'cleares', 'during', 'this', 'upgrade', ',', 'so', 'make', 'sure', 'to', 'save', 'translations', 'you', 'want', 'to', 'remember', 'for', 'ease', 'of', 'access', 'later', '.']\n",
      "['Transalation', 'history', 'will', 'soon', 'only', 'be', 'available', 'when', 'you', 'are', 'signed', 'in', 'andwill', 'be', 'centrally', 'managed', 'within', 'my', 'activity', '.']\n",
      "['Past', 'History', 'will', 'be', 'cleares', 'during', 'this', 'upgrade', ',', 'so', 'make', 'sure', 'to', 'save', 'translations', 'you', 'want', 'to', 'remember', 'for', 'ease', 'of', 'access', 'later', '.']\n",
      "['Transalation', 'history', 'will', 'soon', 'only', 'be', 'available', 'when', 'you', 'are', 'signed', 'in', 'andwill', 'be', 'centrally', 'managed', 'within', 'my', 'activity', '.']\n",
      "['Past', 'History', 'will', 'be', 'cleares', 'during', 'this', 'upgrade', ',', 'so', 'make', 'sure', 'to', 'save', 'translations', 'you', 'want', 'to', 'remember', 'for', 'ease', 'of', 'access', 'later', '.']\n",
      "['Transalation', 'history', 'will', 'soon', 'only', 'be', 'available', 'when', 'you', 'are', 'signed', 'in', 'andwill', 'be', 'centrally', 'managed', 'within', 'my', 'activity', '.']\n",
      "['Past', 'History', 'will', 'be', 'cleares', 'during', 'this', 'upgrade', ',', 'so', 'make', 'sure', 'to', 'save', 'translations', 'you', 'want', 'to', 'remember', 'for', 'ease', 'of', 'access', 'later', '.']\n",
      "['Transalation', 'history', 'will', 'soon', 'only', 'be', 'available', 'when', 'you', 'are', 'signed', 'in', 'andwill', 'be', 'centrally', 'managed', 'within', 'my', 'activity', '.']\n",
      "['Past', 'History', 'will', 'be', 'cleares', 'during', 'this', 'upgrade', ',', 'so', 'make', 'sure', 'to', 'save', 'translations', 'you', 'want', 'to', 'remember', 'for', 'ease', 'of', 'access', 'later', '.']\n",
      "['Transalation', 'history', 'will', 'soon', 'only', 'be', 'available', 'when', 'you', 'are', 'signed', 'in', 'andwill', 'be', 'centrally', 'managed', 'within', 'my', 'activity', '.']\n",
      "['Past', 'History', 'will', 'be', 'cleares', 'during', 'this', 'upgrade', ',', 'so', 'make', 'sure', 'to', 'save', 'translations', 'you', 'want', 'to', 'remember', 'for', 'ease', 'of', 'access', 'later', '.']\n",
      "['Transalation', 'history', 'will', 'soon', 'only', 'be', 'available', 'when', 'you', 'are', 'signed', 'in', 'andwill', 'be', 'centrally', 'managed', 'within', 'my', 'activity', '.']\n",
      "['Past', 'History', 'will', 'be', 'cleares', 'during', 'this', 'upgrade', ',', 'so', 'make', 'sure', 'to', 'save', 'translations', 'you', 'want', 'to', 'remember', 'for', 'ease', 'of', 'access', 'later', '.']\n",
      "['Transalation', 'history', 'will', 'soon', 'only', 'be', 'available', 'when', 'you', 'are', 'signed', 'in', 'andwill', 'be', 'centrally', 'managed', 'within', 'my', 'activity', '.']\n",
      "['Past', 'History', 'will', 'be', 'cleares', 'during', 'this', 'upgrade', ',', 'so', 'make', 'sure', 'to', 'save', 'translations', 'you', 'want', 'to', 'remember', 'for', 'ease', 'of', 'access', 'later', '.']\n",
      "['Transalation', 'history', 'will', 'soon', 'only', 'be', 'available', 'when', 'you', 'are', 'signed', 'in', 'andwill', 'be', 'centrally', 'managed', 'within', 'my', 'activity', '.']\n",
      "['Past', 'History', 'will', 'be', 'cleares', 'during', 'this', 'upgrade', ',', 'so', 'make', 'sure', 'to', 'save', 'translations', 'you', 'want', 'to', 'remember', 'for', 'ease', 'of', 'access', 'later', '.']\n",
      "['Transalation', 'history', 'will', 'soon', 'only', 'be', 'available', 'when', 'you', 'are', 'signed', 'in', 'andwill', 'be', 'centrally', 'managed', 'within', 'my', 'activity', '.']\n",
      "['Past', 'History', 'will', 'be', 'cleares', 'during', 'this', 'upgrade', ',', 'so', 'make', 'sure', 'to', 'save', 'translations', 'you', 'want', 'to', 'remember', 'for', 'ease', 'of', 'access', 'later', '.']\n",
      "['Transalation', 'history', 'will', 'soon', 'only', 'be', 'available', 'when', 'you', 'are', 'signed', 'in', 'andwill', 'be', 'centrally', 'managed', 'within', 'my', 'activity', '.']\n",
      "['Past', 'History', 'will', 'be', 'cleares', 'during', 'this', 'upgrade', ',', 'so', 'make', 'sure', 'to', 'save', 'translations', 'you', 'want', 'to', 'remember', 'for', 'ease', 'of', 'access', 'later', '.']\n",
      "['Transalation', 'history', 'will', 'soon', 'only', 'be', 'available', 'when', 'you', 'are', 'signed', 'in', 'andwill', 'be', 'centrally', 'managed', 'within', 'my', 'activity', '.']\n",
      "['Past', 'History', 'will', 'be', 'cleares', 'during', 'this', 'upgrade', ',', 'so', 'make', 'sure', 'to', 'save', 'translations', 'you', 'want', 'to', 'remember', 'for', 'ease', 'of', 'access', 'later', '.']\n",
      "['Transalation', 'history', 'will', 'soon', 'only', 'be', 'available', 'when', 'you', 'are', 'signed', 'in', 'andwill', 'be', 'centrally', 'managed', 'within', 'my', 'activity', '.']\n",
      "['Past', 'History', 'will', 'be', 'cleares', 'during', 'this', 'upgrade', ',', 'so', 'make', 'sure', 'to', 'save', 'translations', 'you', 'want', 'to', 'remember', 'for', 'ease', 'of', 'access', 'later', '.']\n",
      "['Transalation', 'history', 'will', 'soon', 'only', 'be', 'available', 'when', 'you', 'are', 'signed', 'in', 'andwill', 'be', 'centrally', 'managed', 'within', 'my', 'activity', '.']\n",
      "['Past', 'History', 'will', 'be', 'cleares', 'during', 'this', 'upgrade', ',', 'so', 'make', 'sure', 'to', 'save', 'translations', 'you', 'want', 'to', 'remember', 'for', 'ease', 'of', 'access', 'later', '.']\n",
      "['Transalation', 'history', 'will', 'soon', 'only', 'be', 'available', 'when', 'you', 'are', 'signed', 'in', 'andwill', 'be', 'centrally', 'managed', 'within', 'my', 'activity', '.']\n",
      "['Past', 'History', 'will', 'be', 'cleares', 'during', 'this', 'upgrade', ',', 'so', 'make', 'sure', 'to', 'save', 'translations', 'you', 'want', 'to', 'remember', 'for', 'ease', 'of', 'access', 'later', '.']\n",
      "['Transalation', 'history', 'will', 'soon', 'only', 'be', 'available', 'when', 'you', 'are', 'signed', 'in', 'andwill', 'be', 'centrally', 'managed', 'within', 'my', 'activity', '.']\n",
      "['Past', 'History', 'will', 'be', 'cleares', 'during', 'this', 'upgrade', ',', 'so', 'make', 'sure', 'to', 'save', 'translations', 'you', 'want', 'to', 'remember', 'for', 'ease', 'of', 'access', 'later', '.']\n",
      "['Transalation', 'history', 'will', 'soon', 'only', 'be', 'available', 'when', 'you', 'are', 'signed', 'in', 'andwill', 'be', 'centrally', 'managed', 'within', 'my', 'activity', '.']\n",
      "['Past', 'History', 'will', 'be', 'cleares', 'during', 'this', 'upgrade', ',', 'so', 'make', 'sure', 'to', 'save', 'translations', 'you', 'want', 'to', 'remember', 'for', 'ease', 'of', 'access', 'later', '.']\n",
      "['Transalation', 'history', 'will', 'soon', 'only', 'be', 'available', 'when', 'you', 'are', 'signed', 'in', 'andwill', 'be', 'centrally', 'managed', 'within', 'my', 'activity', '.']\n",
      "['Past', 'History', 'will', 'be', 'cleares', 'during', 'this', 'upgrade', ',', 'so', 'make', 'sure', 'to', 'save', 'translations', 'you', 'want', 'to', 'remember', 'for', 'ease', 'of', 'access', 'later', '.']\n",
      "['Transalation', 'history', 'will', 'soon', 'only', 'be', 'available', 'when', 'you', 'are', 'signed', 'in', 'andwill', 'be', 'centrally', 'managed', 'within', 'my', 'activity', '.']\n",
      "['Past', 'History', 'will', 'be', 'cleares', 'during', 'this', 'upgrade', ',', 'so', 'make', 'sure', 'to', 'save', 'translations', 'you', 'want', 'to', 'remember', 'for', 'ease', 'of', 'access', 'later', '.']\n",
      "['Transalation', 'history', 'will', 'soon', 'only', 'be', 'available', 'when', 'you', 'are', 'signed', 'in', 'andwill', 'be', 'centrally', 'managed', 'within', 'my', 'activity', '.']\n",
      "['Past', 'History', 'will', 'be', 'cleares', 'during', 'this', 'upgrade', ',', 'so', 'make', 'sure', 'to', 'save', 'translations', 'you', 'want', 'to', 'remember', 'for', 'ease', 'of', 'access', 'later', '.']\n",
      "['Transalation', 'history', 'will', 'soon', 'only', 'be', 'available', 'when', 'you', 'are', 'signed', 'in', 'andwill', 'be', 'centrally', 'managed', 'within', 'my', 'activity', '.']\n",
      "['Past', 'History', 'will', 'be', 'cleares', 'during', 'this', 'upgrade', ',', 'so', 'make', 'sure', 'to', 'save', 'translations', 'you', 'want', 'to', 'remember', 'for', 'ease', 'of', 'access', 'later', '.']\n",
      "['Transalation', 'history', 'will', 'soon', 'only', 'be', 'available', 'when', 'you', 'are', 'signed', 'in', 'andwill', 'be', 'centrally', 'managed', 'within', 'my', 'activity', '.']\n",
      "['Past', 'History', 'will', 'be', 'cleares', 'during', 'this', 'upgrade', ',', 'so', 'make', 'sure', 'to', 'save', 'translations', 'you', 'want', 'to', 'remember', 'for', 'ease', 'of', 'access', 'later', '.']\n",
      "['Transalation', 'history', 'will', 'soon', 'only', 'be', 'available', 'when', 'you', 'are', 'signed', 'in', 'andwill', 'be', 'centrally', 'managed', 'within', 'my', 'activity', '.']\n",
      "['Past', 'History', 'will', 'be', 'cleares', 'during', 'this', 'upgrade', ',', 'so', 'make', 'sure', 'to', 'save', 'translations', 'you', 'want', 'to', 'remember', 'for', 'ease', 'of', 'access', 'later', '.']\n",
      "['Transalation', 'history', 'will', 'soon', 'only', 'be', 'available', 'when', 'you', 'are', 'signed', 'in', 'andwill', 'be', 'centrally', 'managed', 'within', 'my', 'activity', '.']\n",
      "['Past', 'History', 'will', 'be', 'cleares', 'during', 'this', 'upgrade', ',', 'so', 'make', 'sure', 'to', 'save', 'translations', 'you', 'want', 'to', 'remember', 'for', 'ease', 'of', 'access', 'later', '.']\n",
      "['Transalation', 'history', 'will', 'soon', 'only', 'be', 'available', 'when', 'you', 'are', 'signed', 'in', 'andwill', 'be', 'centrally', 'managed', 'within', 'my', 'activity', '.']\n",
      "['Past', 'History', 'will', 'be', 'cleares', 'during', 'this', 'upgrade', ',', 'so', 'make', 'sure', 'to', 'save', 'translations', 'you', 'want', 'to', 'remember', 'for', 'ease', 'of', 'access', 'later', '.']\n",
      "['Transalation', 'history', 'will', 'soon', 'only', 'be', 'available', 'when', 'you', 'are', 'signed', 'in', 'andwill', 'be', 'centrally', 'managed', 'within', 'my', 'activity', '.']\n",
      "['Past', 'History', 'will', 'be', 'cleares', 'during', 'this', 'upgrade', ',', 'so', 'make', 'sure', 'to', 'save', 'translations', 'you', 'want', 'to', 'remember', 'for', 'ease', 'of', 'access', 'later', '.']\n",
      "['Transalation', 'history', 'will', 'soon', 'only', 'be', 'available', 'when', 'you', 'are', 'signed', 'in', 'andwill', 'be', 'centrally', 'managed', 'within', 'my', 'activity', '.']\n",
      "['Past', 'History', 'will', 'be', 'cleares', 'during', 'this', 'upgrade', ',', 'so', 'make', 'sure', 'to', 'save', 'translations', 'you', 'want', 'to', 'remember', 'for', 'ease', 'of', 'access', 'later', '.']\n",
      "['Transalation', 'history', 'will', 'soon', 'only', 'be', 'available', 'when', 'you', 'are', 'signed', 'in', 'andwill', 'be', 'centrally', 'managed', 'within', 'my', 'activity', '.']\n",
      "['Past', 'History', 'will', 'be', 'cleares', 'during', 'this', 'upgrade', ',', 'so', 'make', 'sure', 'to', 'save', 'translations', 'you', 'want', 'to', 'remember', 'for', 'ease', 'of', 'access', 'later', '.']\n",
      "['Transalation', 'history', 'will', 'soon', 'only', 'be', 'available', 'when', 'you', 'are', 'signed', 'in', 'andwill', 'be', 'centrally', 'managed', 'within', 'my', 'activity', '.']\n",
      "['Past', 'History', 'will', 'be', 'cleares', 'during', 'this', 'upgrade', ',', 'so', 'make', 'sure', 'to', 'save', 'translations', 'you', 'want', 'to', 'remember', 'for', 'ease', 'of', 'access', 'later', '.']\n",
      "['Transalation', 'history', 'will', 'soon', 'only', 'be', 'available', 'when', 'you', 'are', 'signed', 'in', 'andwill', 'be', 'centrally', 'managed', 'within', 'my', 'activity', '.']\n",
      "['Past', 'History', 'will', 'be', 'cleares', 'during', 'this', 'upgrade', ',', 'so', 'make', 'sure', 'to', 'save', 'translations', 'you', 'want', 'to', 'remember', 'for', 'ease', 'of', 'access', 'later', '.']\n",
      "['Transalation', 'history', 'will', 'soon', 'only', 'be', 'available', 'when', 'you', 'are', 'signed', 'in', 'andwill', 'be', 'centrally', 'managed', 'within', 'my', 'activity', '.']\n",
      "['Past', 'History', 'will', 'be', 'cleares', 'during', 'this', 'upgrade', ',', 'so', 'make', 'sure', 'to', 'save', 'translations', 'you', 'want', 'to', 'remember', 'for', 'ease', 'of', 'access', 'later', '.']\n",
      "['Transalation', 'history', 'will', 'soon', 'only', 'be', 'available', 'when', 'you', 'are', 'signed', 'in', 'andwill', 'be', 'centrally', 'managed', 'within', 'my', 'activity', '.']\n",
      "['Past', 'History', 'will', 'be', 'cleares', 'during', 'this', 'upgrade', ',', 'so', 'make', 'sure', 'to', 'save', 'translations', 'you', 'want', 'to', 'remember', 'for', 'ease', 'of', 'access', 'later', '.']\n",
      "['Transalation', 'history', 'will', 'soon', 'only', 'be', 'available', 'when', 'you', 'are', 'signed', 'in', 'andwill', 'be', 'centrally', 'managed', 'within', 'my', 'activity', '.']\n",
      "['Past', 'History', 'will', 'be', 'cleares', 'during', 'this', 'upgrade', ',', 'so', 'make', 'sure', 'to', 'save', 'translations', 'you', 'want', 'to', 'remember', 'for', 'ease', 'of', 'access', 'later', '.']\n",
      "['Transalation', 'history', 'will', 'soon', 'only', 'be', 'available', 'when', 'you', 'are', 'signed', 'in', 'andwill', 'be', 'centrally', 'managed', 'within', 'my', 'activity', '.']\n",
      "['Past', 'History', 'will', 'be', 'cleares', 'during', 'this', 'upgrade', ',', 'so', 'make', 'sure', 'to', 'save', 'translations', 'you', 'want', 'to', 'remember', 'for', 'ease', 'of', 'access', 'later', '.']\n",
      "['Transalation', 'history', 'will', 'soon', 'only', 'be', 'available', 'when', 'you', 'are', 'signed', 'in', 'andwill', 'be', 'centrally', 'managed', 'within', 'my', 'activity', '.']\n",
      "['Past', 'History', 'will', 'be', 'cleares', 'during', 'this', 'upgrade', ',', 'so', 'make', 'sure', 'to', 'save', 'translations', 'you', 'want', 'to', 'remember', 'for', 'ease', 'of', 'access', 'later', '.']\n",
      "['Transalation', 'history', 'will', 'soon', 'only', 'be', 'available', 'when', 'you', 'are', 'signed', 'in', 'andwill', 'be', 'centrally', 'managed', 'within', 'my', 'activity', '.']\n",
      "['Past', 'History', 'will', 'be', 'cleares', 'during', 'this', 'upgrade', ',', 'so', 'make', 'sure', 'to', 'save', 'translations', 'you', 'want', 'to', 'remember', 'for', 'ease', 'of', 'access', 'later', '.']\n",
      "['Transalation', 'history', 'will', 'soon', 'only', 'be', 'available', 'when', 'you', 'are', 'signed', 'in', 'andwill', 'be', 'centrally', 'managed', 'within', 'my', 'activity', '.']\n",
      "['Past', 'History', 'will', 'be', 'cleares', 'during', 'this', 'upgrade', ',', 'so', 'make', 'sure', 'to', 'save', 'translations', 'you', 'want', 'to', 'remember', 'for', 'ease', 'of', 'access', 'later', '.']\n",
      "['Transalation', 'history', 'will', 'soon', 'only', 'be', 'available', 'when', 'you', 'are', 'signed', 'in', 'andwill', 'be', 'centrally', 'managed', 'within', 'my', 'activity', '.']\n",
      "['Past', 'History', 'will', 'be', 'cleares', 'during', 'this', 'upgrade', ',', 'so', 'make', 'sure', 'to', 'save', 'translations', 'you', 'want', 'to', 'remember', 'for', 'ease', 'of', 'access', 'later', '.']\n",
      "['Transalation', 'history', 'will', 'soon', 'only', 'be', 'available', 'when', 'you', 'are', 'signed', 'in', 'andwill', 'be', 'centrally', 'managed', 'within', 'my', 'activity', '.']\n",
      "['Past', 'History', 'will', 'be', 'cleares', 'during', 'this', 'upgrade', ',', 'so', 'make', 'sure', 'to', 'save', 'translations', 'you', 'want', 'to', 'remember', 'for', 'ease', 'of', 'access', 'later', '.']\n",
      "['Transalation', 'history', 'will', 'soon', 'only', 'be', 'available', 'when', 'you', 'are', 'signed', 'in', 'andwill', 'be', 'centrally', 'managed', 'within', 'my', 'activity', '.']\n",
      "['Past', 'History', 'will', 'be', 'cleares', 'during', 'this', 'upgrade', ',', 'so', 'make', 'sure', 'to', 'save', 'translations', 'you', 'want', 'to', 'remember', 'for', 'ease', 'of', 'access', 'later', '.']\n",
      "['Transalation', 'history', 'will', 'soon', 'only', 'be', 'available', 'when', 'you', 'are', 'signed', 'in', 'andwill', 'be', 'centrally', 'managed', 'within', 'my', 'activity', '.']\n",
      "['Past', 'History', 'will', 'be', 'cleares', 'during', 'this', 'upgrade', ',', 'so', 'make', 'sure', 'to', 'save', 'translations', 'you', 'want', 'to', 'remember', 'for', 'ease', 'of', 'access', 'later', '.']\n",
      "['Transalation', 'history', 'will', 'soon', 'only', 'be', 'available', 'when', 'you', 'are', 'signed', 'in', 'andwill', 'be', 'centrally', 'managed', 'within', 'my', 'activity', '.']\n",
      "['Past', 'History', 'will', 'be', 'cleares', 'during', 'this', 'upgrade', ',', 'so', 'make', 'sure', 'to', 'save', 'translations', 'you', 'want', 'to', 'remember', 'for', 'ease', 'of', 'access', 'later', '.']\n",
      "['Transalation', 'history', 'will', 'soon', 'only', 'be', 'available', 'when', 'you', 'are', 'signed', 'in', 'andwill', 'be', 'centrally', 'managed', 'within', 'my', 'activity', '.']\n",
      "['Past', 'History', 'will', 'be', 'cleares', 'during', 'this', 'upgrade', ',', 'so', 'make', 'sure', 'to', 'save', 'translations', 'you', 'want', 'to', 'remember', 'for', 'ease', 'of', 'access', 'later', '.']\n",
      "['Transalation', 'history', 'will', 'soon', 'only', 'be', 'available', 'when', 'you', 'are', 'signed', 'in', 'andwill', 'be', 'centrally', 'managed', 'within', 'my', 'activity', '.']\n",
      "['Past', 'History', 'will', 'be', 'cleares', 'during', 'this', 'upgrade', ',', 'so', 'make', 'sure', 'to', 'save', 'translations', 'you', 'want', 'to', 'remember', 'for', 'ease', 'of', 'access', 'later', '.']\n",
      "['Transalation', 'history', 'will', 'soon', 'only', 'be', 'available', 'when', 'you', 'are', 'signed', 'in', 'andwill', 'be', 'centrally', 'managed', 'within', 'my', 'activity', '.']\n",
      "['Past', 'History', 'will', 'be', 'cleares', 'during', 'this', 'upgrade', ',', 'so', 'make', 'sure', 'to', 'save', 'translations', 'you', 'want', 'to', 'remember', 'for', 'ease', 'of', 'access', 'later', '.']\n",
      "['Transalation', 'history', 'will', 'soon', 'only', 'be', 'available', 'when', 'you', 'are', 'signed', 'in', 'andwill', 'be', 'centrally', 'managed', 'within', 'my', 'activity', '.']\n",
      "['Past', 'History', 'will', 'be', 'cleares', 'during', 'this', 'upgrade', ',', 'so', 'make', 'sure', 'to', 'save', 'translations', 'you', 'want', 'to', 'remember', 'for', 'ease', 'of', 'access', 'later', '.']\n",
      "['Transalation', 'history', 'will', 'soon', 'only', 'be', 'available', 'when', 'you', 'are', 'signed', 'in', 'andwill', 'be', 'centrally', 'managed', 'within', 'my', 'activity', '.']\n",
      "['Past', 'History', 'will', 'be', 'cleares', 'during', 'this', 'upgrade', ',', 'so', 'make', 'sure', 'to', 'save', 'translations', 'you', 'want', 'to', 'remember', 'for', 'ease', 'of', 'access', 'later', '.']\n",
      "['Transalation', 'history', 'will', 'soon', 'only', 'be', 'available', 'when', 'you', 'are', 'signed', 'in', 'andwill', 'be', 'centrally', 'managed', 'within', 'my', 'activity', '.']\n",
      "['Past', 'History', 'will', 'be', 'cleares', 'during', 'this', 'upgrade', ',', 'so', 'make', 'sure', 'to', 'save', 'translations', 'you', 'want', 'to', 'remember', 'for', 'ease', 'of', 'access', 'later', '.']\n",
      "['Transalation', 'history', 'will', 'soon', 'only', 'be', 'available', 'when', 'you', 'are', 'signed', 'in', 'andwill', 'be', 'centrally', 'managed', 'within', 'my', 'activity', '.']\n",
      "['Past', 'History', 'will', 'be', 'cleares', 'during', 'this', 'upgrade', ',', 'so', 'make', 'sure', 'to', 'save', 'translations', 'you', 'want', 'to', 'remember', 'for', 'ease', 'of', 'access', 'later', '.']\n",
      "['Transalation', 'history', 'will', 'soon', 'only', 'be', 'available', 'when', 'you', 'are', 'signed', 'in', 'andwill', 'be', 'centrally', 'managed', 'within', 'my', 'activity', '.']\n",
      "['Past', 'History', 'will', 'be', 'cleares', 'during', 'this', 'upgrade', ',', 'so', 'make', 'sure', 'to', 'save', 'translations', 'you', 'want', 'to', 'remember', 'for', 'ease', 'of', 'access', 'later', '.']\n",
      "['Transalation', 'history', 'will', 'soon', 'only', 'be', 'available', 'when', 'you', 'are', 'signed', 'in', 'andwill', 'be', 'centrally', 'managed', 'within', 'my', 'activity', '.']\n",
      "['Past', 'History', 'will', 'be', 'cleares', 'during', 'this', 'upgrade', ',', 'so', 'make', 'sure', 'to', 'save', 'translations', 'you', 'want', 'to', 'remember', 'for', 'ease', 'of', 'access', 'later', '.']\n",
      "['Transalation', 'history', 'will', 'soon', 'only', 'be', 'available', 'when', 'you', 'are', 'signed', 'in', 'andwill', 'be', 'centrally', 'managed', 'within', 'my', 'activity', '.']\n",
      "['Past', 'History', 'will', 'be', 'cleares', 'during', 'this', 'upgrade', ',', 'so', 'make', 'sure', 'to', 'save', 'translations', 'you', 'want', 'to', 'remember', 'for', 'ease', 'of', 'access', 'later', '.']\n",
      "['Transalation', 'history', 'will', 'soon', 'only', 'be', 'available', 'when', 'you', 'are', 'signed', 'in', 'andwill', 'be', 'centrally', 'managed', 'within', 'my', 'activity', '.']\n",
      "['Past', 'History', 'will', 'be', 'cleares', 'during', 'this', 'upgrade', ',', 'so', 'make', 'sure', 'to', 'save', 'translations', 'you', 'want', 'to', 'remember', 'for', 'ease', 'of', 'access', 'later', '.']\n",
      "['Transalation', 'history', 'will', 'soon', 'only', 'be', 'available', 'when', 'you', 'are', 'signed', 'in', 'andwill', 'be', 'centrally', 'managed', 'within', 'my', 'activity', '.']\n",
      "['Past', 'History', 'will', 'be', 'cleares', 'during', 'this', 'upgrade', ',', 'so', 'make', 'sure', 'to', 'save', 'translations', 'you', 'want', 'to', 'remember', 'for', 'ease', 'of', 'access', 'later', '.']\n",
      "['Transalation', 'history', 'will', 'soon', 'only', 'be', 'available', 'when', 'you', 'are', 'signed', 'in', 'andwill', 'be', 'centrally', 'managed', 'within', 'my', 'activity', '.']\n",
      "['Past', 'History', 'will', 'be', 'cleares', 'during', 'this', 'upgrade', ',', 'so', 'make', 'sure', 'to', 'save', 'translations', 'you', 'want', 'to', 'remember', 'for', 'ease', 'of', 'access', 'later', '.']\n",
      "['Transalation', 'history', 'will', 'soon', 'only', 'be', 'available', 'when', 'you', 'are', 'signed', 'in', 'andwill', 'be', 'centrally', 'managed', 'within', 'my', 'activity', '.']\n",
      "['Past', 'History', 'will', 'be', 'cleares', 'during', 'this', 'upgrade', ',', 'so', 'make', 'sure', 'to', 'save', 'translations', 'you', 'want', 'to', 'remember', 'for', 'ease', 'of', 'access', 'later', '.']\n",
      "['Transalation', 'history', 'will', 'soon', 'only', 'be', 'available', 'when', 'you', 'are', 'signed', 'in', 'andwill', 'be', 'centrally', 'managed', 'within', 'my', 'activity', '.']\n",
      "['Past', 'History', 'will', 'be', 'cleares', 'during', 'this', 'upgrade', ',', 'so', 'make', 'sure', 'to', 'save', 'translations', 'you', 'want', 'to', 'remember', 'for', 'ease', 'of', 'access', 'later', '.']\n",
      "['Transalation', 'history', 'will', 'soon', 'only', 'be', 'available', 'when', 'you', 'are', 'signed', 'in', 'andwill', 'be', 'centrally', 'managed', 'within', 'my', 'activity', '.']\n",
      "['Past', 'History', 'will', 'be', 'cleares', 'during', 'this', 'upgrade', ',', 'so', 'make', 'sure', 'to', 'save', 'translations', 'you', 'want', 'to', 'remember', 'for', 'ease', 'of', 'access', 'later', '.']\n",
      "['Transalation', 'history', 'will', 'soon', 'only', 'be', 'available', 'when', 'you', 'are', 'signed', 'in', 'andwill', 'be', 'centrally', 'managed', 'within', 'my', 'activity', '.']\n",
      "['Past', 'History', 'will', 'be', 'cleares', 'during', 'this', 'upgrade', ',', 'so', 'make', 'sure', 'to', 'save', 'translations', 'you', 'want', 'to', 'remember', 'for', 'ease', 'of', 'access', 'later', '.']\n",
      "['Transalation', 'history', 'will', 'soon', 'only', 'be', 'available', 'when', 'you', 'are', 'signed', 'in', 'andwill', 'be', 'centrally', 'managed', 'within', 'my', 'activity', '.']\n",
      "['Past', 'History', 'will', 'be', 'cleares', 'during', 'this', 'upgrade', ',', 'so', 'make', 'sure', 'to', 'save', 'translations', 'you', 'want', 'to', 'remember', 'for', 'ease', 'of', 'access', 'later', '.']\n",
      "['Transalation', 'history', 'will', 'soon', 'only', 'be', 'available', 'when', 'you', 'are', 'signed', 'in', 'andwill', 'be', 'centrally', 'managed', 'within', 'my', 'activity', '.']\n",
      "['Past', 'History', 'will', 'be', 'cleares', 'during', 'this', 'upgrade', ',', 'so', 'make', 'sure', 'to', 'save', 'translations', 'you', 'want', 'to', 'remember', 'for', 'ease', 'of', 'access', 'later', '.']\n",
      "['Transalation', 'history', 'will', 'soon', 'only', 'be', 'available', 'when', 'you', 'are', 'signed', 'in', 'andwill', 'be', 'centrally', 'managed', 'within', 'my', 'activity', '.']\n",
      "['Past', 'History', 'will', 'be', 'cleares', 'during', 'this', 'upgrade', ',', 'so', 'make', 'sure', 'to', 'save', 'translations', 'you', 'want', 'to', 'remember', 'for', 'ease', 'of', 'access', 'later', '.']\n",
      "['Transalation', 'history', 'will', 'soon', 'only', 'be', 'available', 'when', 'you', 'are', 'signed', 'in', 'andwill', 'be', 'centrally', 'managed', 'within', 'my', 'activity', '.']\n",
      "['Past', 'History', 'will', 'be', 'cleares', 'during', 'this', 'upgrade', ',', 'so', 'make', 'sure', 'to', 'save', 'translations', 'you', 'want', 'to', 'remember', 'for', 'ease', 'of', 'access', 'later', '.']\n",
      "['Transalation', 'history', 'will', 'soon', 'only', 'be', 'available', 'when', 'you', 'are', 'signed', 'in', 'andwill', 'be', 'centrally', 'managed', 'within', 'my', 'activity', '.']\n",
      "['Past', 'History', 'will', 'be', 'cleares', 'during', 'this', 'upgrade', ',', 'so', 'make', 'sure', 'to', 'save', 'translations', 'you', 'want', 'to', 'remember', 'for', 'ease', 'of', 'access', 'later', '.']\n",
      "['Transalation', 'history', 'will', 'soon', 'only', 'be', 'available', 'when', 'you', 'are', 'signed', 'in', 'andwill', 'be', 'centrally', 'managed', 'within', 'my', 'activity', '.']\n",
      "['Past', 'History', 'will', 'be', 'cleares', 'during', 'this', 'upgrade', ',', 'so', 'make', 'sure', 'to', 'save', 'translations', 'you', 'want', 'to', 'remember', 'for', 'ease', 'of', 'access', 'later', '.']\n",
      "['Transalation', 'history', 'will', 'soon', 'only', 'be', 'available', 'when', 'you', 'are', 'signed', 'in', 'andwill', 'be', 'centrally', 'managed', 'within', 'my', 'activity', '.']\n",
      "['Past', 'History', 'will', 'be', 'cleares', 'during', 'this', 'upgrade', ',', 'so', 'make', 'sure', 'to', 'save', 'translations', 'you', 'want', 'to', 'remember', 'for', 'ease', 'of', 'access', 'later', '.']\n",
      "['Transalation', 'history', 'will', 'soon', 'only', 'be', 'available', 'when', 'you', 'are', 'signed', 'in', 'andwill', 'be', 'centrally', 'managed', 'within', 'my', 'activity', '.']\n",
      "['Past', 'History', 'will', 'be', 'cleares', 'during', 'this', 'upgrade', ',', 'so', 'make', 'sure', 'to', 'save', 'translations', 'you', 'want', 'to', 'remember', 'for', 'ease', 'of', 'access', 'later', '.']\n",
      "['Transalation', 'history', 'will', 'soon', 'only', 'be', 'available', 'when', 'you', 'are', 'signed', 'in', 'andwill', 'be', 'centrally', 'managed', 'within', 'my', 'activity', '.']\n",
      "['Past', 'History', 'will', 'be', 'cleares', 'during', 'this', 'upgrade', ',', 'so', 'make', 'sure', 'to', 'save', 'translations', 'you', 'want', 'to', 'remember', 'for', 'ease', 'of', 'access', 'later', '.']\n",
      "['Transalation', 'history', 'will', 'soon', 'only', 'be', 'available', 'when', 'you', 'are', 'signed', 'in', 'andwill', 'be', 'centrally', 'managed', 'within', 'my', 'activity', '.']\n",
      "['Past', 'History', 'will', 'be', 'cleares', 'during', 'this', 'upgrade', ',', 'so', 'make', 'sure', 'to', 'save', 'translations', 'you', 'want', 'to', 'remember', 'for', 'ease', 'of', 'access', 'later', '.']\n",
      "['Transalation', 'history', 'will', 'soon', 'only', 'be', 'available', 'when', 'you', 'are', 'signed', 'in', 'andwill', 'be', 'centrally', 'managed', 'within', 'my', 'activity', '.']\n",
      "['Past', 'History', 'will', 'be', 'cleares', 'during', 'this', 'upgrade', ',', 'so', 'make', 'sure', 'to', 'save', 'translations', 'you', 'want', 'to', 'remember', 'for', 'ease', 'of', 'access', 'later', '.']\n",
      "['Transalation', 'history', 'will', 'soon', 'only', 'be', 'available', 'when', 'you', 'are', 'signed', 'in', 'andwill', 'be', 'centrally', 'managed', 'within', 'my', 'activity', '.']\n",
      "['Past', 'History', 'will', 'be', 'cleares', 'during', 'this', 'upgrade', ',', 'so', 'make', 'sure', 'to', 'save', 'translations', 'you', 'want', 'to', 'remember', 'for', 'ease', 'of', 'access', 'later', '.']\n",
      "['Transalation', 'history', 'will', 'soon', 'only', 'be', 'available', 'when', 'you', 'are', 'signed', 'in', 'andwill', 'be', 'centrally', 'managed', 'within', 'my', 'activity', '.']\n",
      "['Past', 'History', 'will', 'be', 'cleares', 'during', 'this', 'upgrade', ',', 'so', 'make', 'sure', 'to', 'save', 'translations', 'you', 'want', 'to', 'remember', 'for', 'ease', 'of', 'access', 'later', '.']\n",
      "['Transalation', 'history', 'will', 'soon', 'only', 'be', 'available', 'when', 'you', 'are', 'signed', 'in', 'andwill', 'be', 'centrally', 'managed', 'within', 'my', 'activity', '.']\n",
      "['Past', 'History', 'will', 'be', 'cleares', 'during', 'this', 'upgrade', ',', 'so', 'make', 'sure', 'to', 'save', 'translations', 'you', 'want', 'to', 'remember', 'for', 'ease', 'of', 'access', 'later', '.']\n",
      "['Transalation', 'history', 'will', 'soon', 'only', 'be', 'available', 'when', 'you', 'are', 'signed', 'in', 'andwill', 'be', 'centrally', 'managed', 'within', 'my', 'activity', '.']\n",
      "['Past', 'History', 'will', 'be', 'cleares', 'during', 'this', 'upgrade', ',', 'so', 'make', 'sure', 'to', 'save', 'translations', 'you', 'want', 'to', 'remember', 'for', 'ease', 'of', 'access', 'later', '.']\n",
      "['Transalation', 'history', 'will', 'soon', 'only', 'be', 'available', 'when', 'you', 'are', 'signed', 'in', 'andwill', 'be', 'centrally', 'managed', 'within', 'my', 'activity', '.']\n",
      "['Past', 'History', 'will', 'be', 'cleares', 'during', 'this', 'upgrade', ',', 'so', 'make', 'sure', 'to', 'save', 'translations', 'you', 'want', 'to', 'remember', 'for', 'ease', 'of', 'access', 'later', '.']\n",
      "['Transalation', 'history', 'will', 'soon', 'only', 'be', 'available', 'when', 'you', 'are', 'signed', 'in', 'andwill', 'be', 'centrally', 'managed', 'within', 'my', 'activity', '.']\n",
      "['Past', 'History', 'will', 'be', 'cleares', 'during', 'this', 'upgrade', ',', 'so', 'make', 'sure', 'to', 'save', 'translations', 'you', 'want', 'to', 'remember', 'for', 'ease', 'of', 'access', 'later', '.']\n",
      "['Transalation', 'history', 'will', 'soon', 'only', 'be', 'available', 'when', 'you', 'are', 'signed', 'in', 'andwill', 'be', 'centrally', 'managed', 'within', 'my', 'activity', '.']\n",
      "['Past', 'History', 'will', 'be', 'cleares', 'during', 'this', 'upgrade', ',', 'so', 'make', 'sure', 'to', 'save', 'translations', 'you', 'want', 'to', 'remember', 'for', 'ease', 'of', 'access', 'later', '.']\n",
      "['Transalation', 'history', 'will', 'soon', 'only', 'be', 'available', 'when', 'you', 'are', 'signed', 'in', 'andwill', 'be', 'centrally', 'managed', 'within', 'my', 'activity', '.']\n",
      "['Past', 'History', 'will', 'be', 'cleares', 'during', 'this', 'upgrade', ',', 'so', 'make', 'sure', 'to', 'save', 'translations', 'you', 'want', 'to', 'remember', 'for', 'ease', 'of', 'access', 'later', '.']\n",
      "['Transalation', 'history', 'will', 'soon', 'only', 'be', 'available', 'when', 'you', 'are', 'signed', 'in', 'andwill', 'be', 'centrally', 'managed', 'within', 'my', 'activity', '.']\n",
      "['Past', 'History', 'will', 'be', 'cleares', 'during', 'this', 'upgrade', ',', 'so', 'make', 'sure', 'to', 'save', 'translations', 'you', 'want', 'to', 'remember', 'for', 'ease', 'of', 'access', 'later', '.']\n",
      "['Transalation', 'history', 'will', 'soon', 'only', 'be', 'available', 'when', 'you', 'are', 'signed', 'in', 'andwill', 'be', 'centrally', 'managed', 'within', 'my', 'activity', '.']\n",
      "['Past', 'History', 'will', 'be', 'cleares', 'during', 'this', 'upgrade', ',', 'so', 'make', 'sure', 'to', 'save', 'translations', 'you', 'want', 'to', 'remember', 'for', 'ease', 'of', 'access', 'later', '.']\n",
      "['Transalation', 'history', 'will', 'soon', 'only', 'be', 'available', 'when', 'you', 'are', 'signed', 'in', 'andwill', 'be', 'centrally', 'managed', 'within', 'my', 'activity', '.']\n",
      "['Past', 'History', 'will', 'be', 'cleares', 'during', 'this', 'upgrade', ',', 'so', 'make', 'sure', 'to', 'save', 'translations', 'you', 'want', 'to', 'remember', 'for', 'ease', 'of', 'access', 'later', '.']\n",
      "['Transalation', 'history', 'will', 'soon', 'only', 'be', 'available', 'when', 'you', 'are', 'signed', 'in', 'andwill', 'be', 'centrally', 'managed', 'within', 'my', 'activity', '.']\n",
      "['Past', 'History', 'will', 'be', 'cleares', 'during', 'this', 'upgrade', ',', 'so', 'make', 'sure', 'to', 'save', 'translations', 'you', 'want', 'to', 'remember', 'for', 'ease', 'of', 'access', 'later', '.']\n",
      "['Transalation', 'history', 'will', 'soon', 'only', 'be', 'available', 'when', 'you', 'are', 'signed', 'in', 'andwill', 'be', 'centrally', 'managed', 'within', 'my', 'activity', '.']\n",
      "['Past', 'History', 'will', 'be', 'cleares', 'during', 'this', 'upgrade', ',', 'so', 'make', 'sure', 'to', 'save', 'translations', 'you', 'want', 'to', 'remember', 'for', 'ease', 'of', 'access', 'later', '.']\n",
      "['Transalation', 'history', 'will', 'soon', 'only', 'be', 'available', 'when', 'you', 'are', 'signed', 'in', 'andwill', 'be', 'centrally', 'managed', 'within', 'my', 'activity', '.']\n",
      "['Past', 'History', 'will', 'be', 'cleares', 'during', 'this', 'upgrade', ',', 'so', 'make', 'sure', 'to', 'save', 'translations', 'you', 'want', 'to', 'remember', 'for', 'ease', 'of', 'access', 'later', '.']\n",
      "['Transalation', 'history', 'will', 'soon', 'only', 'be', 'available', 'when', 'you', 'are', 'signed', 'in', 'andwill', 'be', 'centrally', 'managed', 'within', 'my', 'activity', '.']\n",
      "['Past', 'History', 'will', 'be', 'cleares', 'during', 'this', 'upgrade', ',', 'so', 'make', 'sure', 'to', 'save', 'translations', 'you', 'want', 'to', 'remember', 'for', 'ease', 'of', 'access', 'later', '.']\n",
      "['Transalation', 'history', 'will', 'soon', 'only', 'be', 'available', 'when', 'you', 'are', 'signed', 'in', 'andwill', 'be', 'centrally', 'managed', 'within', 'my', 'activity', '.']\n",
      "['Past', 'History', 'will', 'be', 'cleares', 'during', 'this', 'upgrade', ',', 'so', 'make', 'sure', 'to', 'save', 'translations', 'you', 'want', 'to', 'remember', 'for', 'ease', 'of', 'access', 'later', '.']\n",
      "['Transalation', 'history', 'will', 'soon', 'only', 'be', 'available', 'when', 'you', 'are', 'signed', 'in', 'andwill', 'be', 'centrally', 'managed', 'within', 'my', 'activity', '.']\n",
      "['Past', 'History', 'will', 'be', 'cleares', 'during', 'this', 'upgrade', ',', 'so', 'make', 'sure', 'to', 'save', 'translations', 'you', 'want', 'to', 'remember', 'for', 'ease', 'of', 'access', 'later', '.']\n",
      "['Transalation', 'history', 'will', 'soon', 'only', 'be', 'available', 'when', 'you', 'are', 'signed', 'in', 'andwill', 'be', 'centrally', 'managed', 'within', 'my', 'activity', '.']\n",
      "['Past', 'History', 'will', 'be', 'cleares', 'during', 'this', 'upgrade', ',', 'so', 'make', 'sure', 'to', 'save', 'translations', 'you', 'want', 'to', 'remember', 'for', 'ease', 'of', 'access', 'later', '.']\n",
      "['Transalation', 'history', 'will', 'soon', 'only', 'be', 'available', 'when', 'you', 'are', 'signed', 'in', 'andwill', 'be', 'centrally', 'managed', 'within', 'my', 'activity', '.']\n",
      "['Past', 'History', 'will', 'be', 'cleares', 'during', 'this', 'upgrade', ',', 'so', 'make', 'sure', 'to', 'save', 'translations', 'you', 'want', 'to', 'remember', 'for', 'ease', 'of', 'access', 'later', '.']\n",
      "['Transalation', 'history', 'will', 'soon', 'only', 'be', 'available', 'when', 'you', 'are', 'signed', 'in', 'andwill', 'be', 'centrally', 'managed', 'within', 'my', 'activity', '.']\n",
      "['Past', 'History', 'will', 'be', 'cleares', 'during', 'this', 'upgrade', ',', 'so', 'make', 'sure', 'to', 'save', 'translations', 'you', 'want', 'to', 'remember', 'for', 'ease', 'of', 'access', 'later', '.']\n",
      "['Transalation', 'history', 'will', 'soon', 'only', 'be', 'available', 'when', 'you', 'are', 'signed', 'in', 'andwill', 'be', 'centrally', 'managed', 'within', 'my', 'activity', '.']\n",
      "['Past', 'History', 'will', 'be', 'cleares', 'during', 'this', 'upgrade', ',', 'so', 'make', 'sure', 'to', 'save', 'translations', 'you', 'want', 'to', 'remember', 'for', 'ease', 'of', 'access', 'later', '.']\n",
      "['Transalation', 'history', 'will', 'soon', 'only', 'be', 'available', 'when', 'you', 'are', 'signed', 'in', 'andwill', 'be', 'centrally', 'managed', 'within', 'my', 'activity', '.']\n",
      "['Past', 'History', 'will', 'be', 'cleares', 'during', 'this', 'upgrade', ',', 'so', 'make', 'sure', 'to', 'save', 'translations', 'you', 'want', 'to', 'remember', 'for', 'ease', 'of', 'access', 'later', '.']\n",
      "['Transalation', 'history', 'will', 'soon', 'only', 'be', 'available', 'when', 'you', 'are', 'signed', 'in', 'andwill', 'be', 'centrally', 'managed', 'within', 'my', 'activity', '.']\n",
      "['Past', 'History', 'will', 'be', 'cleares', 'during', 'this', 'upgrade', ',', 'so', 'make', 'sure', 'to', 'save', 'translations', 'you', 'want', 'to', 'remember', 'for', 'ease', 'of', 'access', 'later', '.']\n",
      "['Transalation', 'history', 'will', 'soon', 'only', 'be', 'available', 'when', 'you', 'are', 'signed', 'in', 'andwill', 'be', 'centrally', 'managed', 'within', 'my', 'activity', '.']\n",
      "['Past', 'History', 'will', 'be', 'cleares', 'during', 'this', 'upgrade', ',', 'so', 'make', 'sure', 'to', 'save', 'translations', 'you', 'want', 'to', 'remember', 'for', 'ease', 'of', 'access', 'later', '.']\n",
      "['Transalation', 'history', 'will', 'soon', 'only', 'be', 'available', 'when', 'you', 'are', 'signed', 'in', 'andwill', 'be', 'centrally', 'managed', 'within', 'my', 'activity', '.']\n",
      "['Past', 'History', 'will', 'be', 'cleares', 'during', 'this', 'upgrade', ',', 'so', 'make', 'sure', 'to', 'save', 'translations', 'you', 'want', 'to', 'remember', 'for', 'ease', 'of', 'access', 'later', '.']\n",
      "['Transalation', 'history', 'will', 'soon', 'only', 'be', 'available', 'when', 'you', 'are', 'signed', 'in', 'andwill', 'be', 'centrally', 'managed', 'within', 'my', 'activity', '.']\n",
      "['Past', 'History', 'will', 'be', 'cleares', 'during', 'this', 'upgrade', ',', 'so', 'make', 'sure', 'to', 'save', 'translations', 'you', 'want', 'to', 'remember', 'for', 'ease', 'of', 'access', 'later', '.']\n",
      "['Transalation', 'history', 'will', 'soon', 'only', 'be', 'available', 'when', 'you', 'are', 'signed', 'in', 'andwill', 'be', 'centrally', 'managed', 'within', 'my', 'activity', '.']\n",
      "['Past', 'History', 'will', 'be', 'cleares', 'during', 'this', 'upgrade', ',', 'so', 'make', 'sure', 'to', 'save', 'translations', 'you', 'want', 'to', 'remember', 'for', 'ease', 'of', 'access', 'later', '.']\n",
      "['Transalation', 'history', 'will', 'soon', 'only', 'be', 'available', 'when', 'you', 'are', 'signed', 'in', 'andwill', 'be', 'centrally', 'managed', 'within', 'my', 'activity', '.']\n",
      "['Past', 'History', 'will', 'be', 'cleares', 'during', 'this', 'upgrade', ',', 'so', 'make', 'sure', 'to', 'save', 'translations', 'you', 'want', 'to', 'remember', 'for', 'ease', 'of', 'access', 'later', '.']\n",
      "['Transalation', 'history', 'will', 'soon', 'only', 'be', 'available', 'when', 'you', 'are', 'signed', 'in', 'andwill', 'be', 'centrally', 'managed', 'within', 'my', 'activity', '.']\n",
      "['Past', 'History', 'will', 'be', 'cleares', 'during', 'this', 'upgrade', ',', 'so', 'make', 'sure', 'to', 'save', 'translations', 'you', 'want', 'to', 'remember', 'for', 'ease', 'of', 'access', 'later', '.']\n",
      "['Transalation', 'history', 'will', 'soon', 'only', 'be', 'available', 'when', 'you', 'are', 'signed', 'in', 'andwill', 'be', 'centrally', 'managed', 'within', 'my', 'activity', '.']\n",
      "['Past', 'History', 'will', 'be', 'cleares', 'during', 'this', 'upgrade', ',', 'so', 'make', 'sure', 'to', 'save', 'translations', 'you', 'want', 'to', 'remember', 'for', 'ease', 'of', 'access', 'later', '.']\n",
      "['Transalation', 'history', 'will', 'soon', 'only', 'be', 'available', 'when', 'you', 'are', 'signed', 'in', 'andwill', 'be', 'centrally', 'managed', 'within', 'my', 'activity', '.']\n",
      "['Past', 'History', 'will', 'be', 'cleares', 'during', 'this', 'upgrade', ',', 'so', 'make', 'sure', 'to', 'save', 'translations', 'you', 'want', 'to', 'remember', 'for', 'ease', 'of', 'access', 'later', '.']\n",
      "['Transalation', 'history', 'will', 'soon', 'only', 'be', 'available', 'when', 'you', 'are', 'signed', 'in', 'andwill', 'be', 'centrally', 'managed', 'within', 'my', 'activity', '.']\n",
      "['Past', 'History', 'will', 'be', 'cleares', 'during', 'this', 'upgrade', ',', 'so', 'make', 'sure', 'to', 'save', 'translations', 'you', 'want', 'to', 'remember', 'for', 'ease', 'of', 'access', 'later', '.']\n",
      "['Transalation', 'history', 'will', 'soon', 'only', 'be', 'available', 'when', 'you', 'are', 'signed', 'in', 'andwill', 'be', 'centrally', 'managed', 'within', 'my', 'activity', '.']\n",
      "['Past', 'History', 'will', 'be', 'cleares', 'during', 'this', 'upgrade', ',', 'so', 'make', 'sure', 'to', 'save', 'translations', 'you', 'want', 'to', 'remember', 'for', 'ease', 'of', 'access', 'later', '.']\n",
      "['Transalation', 'history', 'will', 'soon', 'only', 'be', 'available', 'when', 'you', 'are', 'signed', 'in', 'andwill', 'be', 'centrally', 'managed', 'within', 'my', 'activity', '.']\n",
      "['Past', 'History', 'will', 'be', 'cleares', 'during', 'this', 'upgrade', ',', 'so', 'make', 'sure', 'to', 'save', 'translations', 'you', 'want', 'to', 'remember', 'for', 'ease', 'of', 'access', 'later', '.']\n",
      "['Transalation', 'history', 'will', 'soon', 'only', 'be', 'available', 'when', 'you', 'are', 'signed', 'in', 'andwill', 'be', 'centrally', 'managed', 'within', 'my', 'activity', '.']\n",
      "['Past', 'History', 'will', 'be', 'cleares', 'during', 'this', 'upgrade', ',', 'so', 'make', 'sure', 'to', 'save', 'translations', 'you', 'want', 'to', 'remember', 'for', 'ease', 'of', 'access', 'later', '.']\n",
      "['Transalation', 'history', 'will', 'soon', 'only', 'be', 'available', 'when', 'you', 'are', 'signed', 'in', 'andwill', 'be', 'centrally', 'managed', 'within', 'my', 'activity', '.']\n",
      "['Past', 'History', 'will', 'be', 'cleares', 'during', 'this', 'upgrade', ',', 'so', 'make', 'sure', 'to', 'save', 'translations', 'you', 'want', 'to', 'remember', 'for', 'ease', 'of', 'access', 'later', '.']\n",
      "['Transalation', 'history', 'will', 'soon', 'only', 'be', 'available', 'when', 'you', 'are', 'signed', 'in', 'andwill', 'be', 'centrally', 'managed', 'within', 'my', 'activity', '.']\n",
      "['Past', 'History', 'will', 'be', 'cleares', 'during', 'this', 'upgrade', ',', 'so', 'make', 'sure', 'to', 'save', 'translations', 'you', 'want', 'to', 'remember', 'for', 'ease', 'of', 'access', 'later', '.']\n",
      "['Transalation', 'history', 'will', 'soon', 'only', 'be', 'available', 'when', 'you', 'are', 'signed', 'in', 'andwill', 'be', 'centrally', 'managed', 'within', 'my', 'activity', '.']\n",
      "['Past', 'History', 'will', 'be', 'cleares', 'during', 'this', 'upgrade', ',', 'so', 'make', 'sure', 'to', 'save', 'translations', 'you', 'want', 'to', 'remember', 'for', 'ease', 'of', 'access', 'later', '.']\n",
      "['Transalation', 'history', 'will', 'soon', 'only', 'be', 'available', 'when', 'you', 'are', 'signed', 'in', 'andwill', 'be', 'centrally', 'managed', 'within', 'my', 'activity', '.']\n",
      "['Past', 'History', 'will', 'be', 'cleares', 'during', 'this', 'upgrade', ',', 'so', 'make', 'sure', 'to', 'save', 'translations', 'you', 'want', 'to', 'remember', 'for', 'ease', 'of', 'access', 'later', '.']\n",
      "['Transalation', 'history', 'will', 'soon', 'only', 'be', 'available', 'when', 'you', 'are', 'signed', 'in', 'andwill', 'be', 'centrally', 'managed', 'within', 'my', 'activity', '.']\n",
      "['Past', 'History', 'will', 'be', 'cleares', 'during', 'this', 'upgrade', ',', 'so', 'make', 'sure', 'to', 'save', 'translations', 'you', 'want', 'to', 'remember', 'for', 'ease', 'of', 'access', 'later', '.']\n",
      "['Transalation', 'history', 'will', 'soon', 'only', 'be', 'available', 'when', 'you', 'are', 'signed', 'in', 'andwill', 'be', 'centrally', 'managed', 'within', 'my', 'activity', '.']\n",
      "['Past', 'History', 'will', 'be', 'cleares', 'during', 'this', 'upgrade', ',', 'so', 'make', 'sure', 'to', 'save', 'translations', 'you', 'want', 'to', 'remember', 'for', 'ease', 'of', 'access', 'later', '.']\n",
      "['Transalation', 'history', 'will', 'soon', 'only', 'be', 'available', 'when', 'you', 'are', 'signed', 'in', 'andwill', 'be', 'centrally', 'managed', 'within', 'my', 'activity', '.']\n",
      "['Past', 'History', 'will', 'be', 'cleares', 'during', 'this', 'upgrade', ',', 'so', 'make', 'sure', 'to', 'save', 'translations', 'you', 'want', 'to', 'remember', 'for', 'ease', 'of', 'access', 'later', '.']\n",
      "['Transalation', 'history', 'will', 'soon', 'only', 'be', 'available', 'when', 'you', 'are', 'signed', 'in', 'andwill', 'be', 'centrally', 'managed', 'within', 'my', 'activity', '.']\n",
      "['Past', 'History', 'will', 'be', 'cleares', 'during', 'this', 'upgrade', ',', 'so', 'make', 'sure', 'to', 'save', 'translations', 'you', 'want', 'to', 'remember', 'for', 'ease', 'of', 'access', 'later', '.']\n",
      "['Transalation', 'history', 'will', 'soon', 'only', 'be', 'available', 'when', 'you', 'are', 'signed', 'in', 'andwill', 'be', 'centrally', 'managed', 'within', 'my', 'activity', '.']\n",
      "['Past', 'History', 'will', 'be', 'cleares', 'during', 'this', 'upgrade', ',', 'so', 'make', 'sure', 'to', 'save', 'translations', 'you', 'want', 'to', 'remember', 'for', 'ease', 'of', 'access', 'later', '.']\n",
      "['Transalation', 'history', 'will', 'soon', 'only', 'be', 'available', 'when', 'you', 'are', 'signed', 'in', 'andwill', 'be', 'centrally', 'managed', 'within', 'my', 'activity', '.']\n",
      "['Past', 'History', 'will', 'be', 'cleares', 'during', 'this', 'upgrade', ',', 'so', 'make', 'sure', 'to', 'save', 'translations', 'you', 'want', 'to', 'remember', 'for', 'ease', 'of', 'access', 'later', '.']\n",
      "['Transalation', 'history', 'will', 'soon', 'only', 'be', 'available', 'when', 'you', 'are', 'signed', 'in', 'andwill', 'be', 'centrally', 'managed', 'within', 'my', 'activity', '.']\n",
      "['Past', 'History', 'will', 'be', 'cleares', 'during', 'this', 'upgrade', ',', 'so', 'make', 'sure', 'to', 'save', 'translations', 'you', 'want', 'to', 'remember', 'for', 'ease', 'of', 'access', 'later', '.']\n",
      "['Transalation', 'history', 'will', 'soon', 'only', 'be', 'available', 'when', 'you', 'are', 'signed', 'in', 'andwill', 'be', 'centrally', 'managed', 'within', 'my', 'activity', '.']\n",
      "['Past', 'History', 'will', 'be', 'cleares', 'during', 'this', 'upgrade', ',', 'so', 'make', 'sure', 'to', 'save', 'translations', 'you', 'want', 'to', 'remember', 'for', 'ease', 'of', 'access', 'later', '.']\n",
      "['Transalation', 'history', 'will', 'soon', 'only', 'be', 'available', 'when', 'you', 'are', 'signed', 'in', 'andwill', 'be', 'centrally', 'managed', 'within', 'my', 'activity', '.']\n",
      "['Past', 'History', 'will', 'be', 'cleares', 'during', 'this', 'upgrade', ',', 'so', 'make', 'sure', 'to', 'save', 'translations', 'you', 'want', 'to', 'remember', 'for', 'ease', 'of', 'access', 'later', '.']\n",
      "['Transalation', 'history', 'will', 'soon', 'only', 'be', 'available', 'when', 'you', 'are', 'signed', 'in', 'andwill', 'be', 'centrally', 'managed', 'within', 'my', 'activity', '.']\n",
      "['Past', 'History', 'will', 'be', 'cleares', 'during', 'this', 'upgrade', ',', 'so', 'make', 'sure', 'to', 'save', 'translations', 'you', 'want', 'to', 'remember', 'for', 'ease', 'of', 'access', 'later', '.']\n",
      "['Transalation', 'history', 'will', 'soon', 'only', 'be', 'available', 'when', 'you', 'are', 'signed', 'in', 'andwill', 'be', 'centrally', 'managed', 'within', 'my', 'activity', '.']\n",
      "['Past', 'History', 'will', 'be', 'cleares', 'during', 'this', 'upgrade', ',', 'so', 'make', 'sure', 'to', 'save', 'translations', 'you', 'want', 'to', 'remember', 'for', 'ease', 'of', 'access', 'later', '.']\n",
      "['Transalation', 'history', 'will', 'soon', 'only', 'be', 'available', 'when', 'you', 'are', 'signed', 'in', 'andwill', 'be', 'centrally', 'managed', 'within', 'my', 'activity', '.']\n",
      "['Past', 'History', 'will', 'be', 'cleares', 'during', 'this', 'upgrade', ',', 'so', 'make', 'sure', 'to', 'save', 'translations', 'you', 'want', 'to', 'remember', 'for', 'ease', 'of', 'access', 'later', '.']\n",
      "['Transalation', 'history', 'will', 'soon', 'only', 'be', 'available', 'when', 'you', 'are', 'signed', 'in', 'andwill', 'be', 'centrally', 'managed', 'within', 'my', 'activity', '.']\n",
      "['Past', 'History', 'will', 'be', 'cleares', 'during', 'this', 'upgrade', ',', 'so', 'make', 'sure', 'to', 'save', 'translations', 'you', 'want', 'to', 'remember', 'for', 'ease', 'of', 'access', 'later', '.']\n",
      "['Transalation', 'history', 'will', 'soon', 'only', 'be', 'available', 'when', 'you', 'are', 'signed', 'in', 'andwill', 'be', 'centrally', 'managed', 'within', 'my', 'activity', '.']\n",
      "['Past', 'History', 'will', 'be', 'cleares', 'during', 'this', 'upgrade', ',', 'so', 'make', 'sure', 'to', 'save', 'translations', 'you', 'want', 'to', 'remember', 'for', 'ease', 'of', 'access', 'later', '.']\n",
      "['Transalation', 'history', 'will', 'soon', 'only', 'be', 'available', 'when', 'you', 'are', 'signed', 'in', 'andwill', 'be', 'centrally', 'managed', 'within', 'my', 'activity', '.']\n",
      "['Past', 'History', 'will', 'be', 'cleares', 'during', 'this', 'upgrade', ',', 'so', 'make', 'sure', 'to', 'save', 'translations', 'you', 'want', 'to', 'remember', 'for', 'ease', 'of', 'access', 'later', '.']\n",
      "['Transalation', 'history', 'will', 'soon', 'only', 'be', 'available', 'when', 'you', 'are', 'signed', 'in', 'andwill', 'be', 'centrally', 'managed', 'within', 'my', 'activity', '.']\n",
      "['Past', 'History', 'will', 'be', 'cleares', 'during', 'this', 'upgrade', ',', 'so', 'make', 'sure', 'to', 'save', 'translations', 'you', 'want', 'to', 'remember', 'for', 'ease', 'of', 'access', 'later', '.']\n",
      "['Transalation', 'history', 'will', 'soon', 'only', 'be', 'available', 'when', 'you', 'are', 'signed', 'in', 'andwill', 'be', 'centrally', 'managed', 'within', 'my', 'activity', '.']\n",
      "['Past', 'History', 'will', 'be', 'cleares', 'during', 'this', 'upgrade', ',', 'so', 'make', 'sure', 'to', 'save', 'translations', 'you', 'want', 'to', 'remember', 'for', 'ease', 'of', 'access', 'later', '.']\n",
      "['Transalation', 'history', 'will', 'soon', 'only', 'be', 'available', 'when', 'you', 'are', 'signed', 'in', 'andwill', 'be', 'centrally', 'managed', 'within', 'my', 'activity', '.']\n",
      "['Past', 'History', 'will', 'be', 'cleares', 'during', 'this', 'upgrade', ',', 'so', 'make', 'sure', 'to', 'save', 'translations', 'you', 'want', 'to', 'remember', 'for', 'ease', 'of', 'access', 'later', '.']\n",
      "['Transalation', 'history', 'will', 'soon', 'only', 'be', 'available', 'when', 'you', 'are', 'signed', 'in', 'andwill', 'be', 'centrally', 'managed', 'within', 'my', 'activity', '.']\n",
      "['Past', 'History', 'will', 'be', 'cleares', 'during', 'this', 'upgrade', ',', 'so', 'make', 'sure', 'to', 'save', 'translations', 'you', 'want', 'to', 'remember', 'for', 'ease', 'of', 'access', 'later', '.']\n",
      "['Transalation', 'history', 'will', 'soon', 'only', 'be', 'available', 'when', 'you', 'are', 'signed', 'in', 'andwill', 'be', 'centrally', 'managed', 'within', 'my', 'activity', '.']\n",
      "['Past', 'History', 'will', 'be', 'cleares', 'during', 'this', 'upgrade', ',', 'so', 'make', 'sure', 'to', 'save', 'translations', 'you', 'want', 'to', 'remember', 'for', 'ease', 'of', 'access', 'later', '.']\n",
      "['Transalation', 'history', 'will', 'soon', 'only', 'be', 'available', 'when', 'you', 'are', 'signed', 'in', 'andwill', 'be', 'centrally', 'managed', 'within', 'my', 'activity', '.']\n",
      "['Past', 'History', 'will', 'be', 'cleares', 'during', 'this', 'upgrade', ',', 'so', 'make', 'sure', 'to', 'save', 'translations', 'you', 'want', 'to', 'remember', 'for', 'ease', 'of', 'access', 'later', '.']\n",
      "['Transalation', 'history', 'will', 'soon', 'only', 'be', 'available', 'when', 'you', 'are', 'signed', 'in', 'andwill', 'be', 'centrally', 'managed', 'within', 'my', 'activity', '.']\n"
     ]
    },
    {
     "name": "stdout",
     "output_type": "stream",
     "text": [
      "['Past', 'History', 'will', 'be', 'cleares', 'during', 'this', 'upgrade', ',', 'so', 'make', 'sure', 'to', 'save', 'translations', 'you', 'want', 'to', 'remember', 'for', 'ease', 'of', 'access', 'later', '.']\n",
      "['Transalation', 'history', 'will', 'soon', 'only', 'be', 'available', 'when', 'you', 'are', 'signed', 'in', 'andwill', 'be', 'centrally', 'managed', 'within', 'my', 'activity', '.']\n",
      "['Past', 'History', 'will', 'be', 'cleares', 'during', 'this', 'upgrade', ',', 'so', 'make', 'sure', 'to', 'save', 'translations', 'you', 'want', 'to', 'remember', 'for', 'ease', 'of', 'access', 'later', '.']\n",
      "['Transalation', 'history', 'will', 'soon', 'only', 'be', 'available', 'when', 'you', 'are', 'signed', 'in', 'andwill', 'be', 'centrally', 'managed', 'within', 'my', 'activity', '.']\n",
      "['Past', 'History', 'will', 'be', 'cleares', 'during', 'this', 'upgrade', ',', 'so', 'make', 'sure', 'to', 'save', 'translations', 'you', 'want', 'to', 'remember', 'for', 'ease', 'of', 'access', 'later', '.']\n",
      "['Transalation', 'history', 'will', 'soon', 'only', 'be', 'available', 'when', 'you', 'are', 'signed', 'in', 'andwill', 'be', 'centrally', 'managed', 'within', 'my', 'activity', '.']\n",
      "['Past', 'History', 'will', 'be', 'cleares', 'during', 'this', 'upgrade', ',', 'so', 'make', 'sure', 'to', 'save', 'translations', 'you', 'want', 'to', 'remember', 'for', 'ease', 'of', 'access', 'later', '.']\n",
      "['Transalation', 'history', 'will', 'soon', 'only', 'be', 'available', 'when', 'you', 'are', 'signed', 'in', 'andwill', 'be', 'centrally', 'managed', 'within', 'my', 'activity', '.']\n",
      "['Past', 'History', 'will', 'be', 'cleares', 'during', 'this', 'upgrade', ',', 'so', 'make', 'sure', 'to', 'save', 'translations', 'you', 'want', 'to', 'remember', 'for', 'ease', 'of', 'access', 'later', '.']\n",
      "['Transalation', 'history', 'will', 'soon', 'only', 'be', 'available', 'when', 'you', 'are', 'signed', 'in', 'andwill', 'be', 'centrally', 'managed', 'within', 'my', 'activity', '.']\n",
      "['Past', 'History', 'will', 'be', 'cleares', 'during', 'this', 'upgrade', ',', 'so', 'make', 'sure', 'to', 'save', 'translations', 'you', 'want', 'to', 'remember', 'for', 'ease', 'of', 'access', 'later', '.']\n",
      "['Transalation', 'history', 'will', 'soon', 'only', 'be', 'available', 'when', 'you', 'are', 'signed', 'in', 'andwill', 'be', 'centrally', 'managed', 'within', 'my', 'activity', '.']\n",
      "['Past', 'History', 'will', 'be', 'cleares', 'during', 'this', 'upgrade', ',', 'so', 'make', 'sure', 'to', 'save', 'translations', 'you', 'want', 'to', 'remember', 'for', 'ease', 'of', 'access', 'later', '.']\n"
     ]
    }
   ],
   "source": [
    "texts = \"\"\"Transalation history will soon only be available when you are signed in andwill be centrally managed within my activity. Past History will be cleares during this upgrade, so make sure to save translations you want to remember for ease of access later. \"\"\"\n",
    "import nltk\n",
    "for text in texts:\n",
    "    sentences = nltk.sent_tokenize(texts)\n",
    "    for sentence in sentences:\n",
    "        words = nltk.word_tokenize(sentence)\n",
    "        print(words)"
   ]
  },
  {
   "cell_type": "code",
   "execution_count": 36,
   "metadata": {},
   "outputs": [
    {
     "name": "stdout",
     "output_type": "stream",
     "text": [
      "[('Past', 'NNP'), ('History', 'NNP'), ('will', 'MD'), ('be', 'VB'), ('cleares', 'NNS'), ('during', 'IN'), ('this', 'DT'), ('upgrade', 'NN'), (',', ','), ('so', 'RB'), ('make', 'JJ'), ('sure', 'NN'), ('to', 'TO'), ('save', 'VB'), ('translations', 'NNS'), ('you', 'PRP'), ('want', 'VBP'), ('to', 'TO'), ('remember', 'VB'), ('for', 'IN'), ('ease', 'NN'), ('of', 'IN'), ('access', 'NN'), ('later', 'RB'), ('.', '.')]\n"
     ]
    }
   ],
   "source": [
    "tagged = nltk.pos_tag(words)\n",
    "print(tagged)"
   ]
  },
  {
   "cell_type": "code",
   "execution_count": null,
   "metadata": {},
   "outputs": [],
   "source": []
  }
 ],
 "metadata": {
  "kernelspec": {
   "display_name": "Python 3",
   "language": "python",
   "name": "python3"
  },
  "language_info": {
   "codemirror_mode": {
    "name": "ipython",
    "version": 3
   },
   "file_extension": ".py",
   "mimetype": "text/x-python",
   "name": "python",
   "nbconvert_exporter": "python",
   "pygments_lexer": "ipython3",
   "version": "3.7.4"
  }
 },
 "nbformat": 4,
 "nbformat_minor": 2
}
